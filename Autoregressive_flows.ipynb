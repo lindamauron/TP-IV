{
 "cells": [
  {
   "cell_type": "markdown",
   "metadata": {
    "id": "OYyjsTp4UAEG"
   },
   "source": [
    "This notebook implements the autoregressive-flow model. Here, we were capable to learn multi-modal distributions but no correlations between the components. This is due to the fact that the inputs of each RNN depend on the previous parameters and not the previous component. \n",
    "\n",
    "See 'Learning_Isin.ipynb' for the well-finished project (or Real Recurrent Model at the end of the notebook, not so clean). "
   ]
  },
  {
   "cell_type": "markdown",
   "metadata": {
    "id": "enOG0ulnES23"
   },
   "source": [
    "# Imports"
   ]
  },
  {
   "cell_type": "code",
   "execution_count": 1,
   "metadata": {
    "colab": {
     "base_uri": "https://localhost:8080/"
    },
    "executionInfo": {
     "elapsed": 67500,
     "status": "ok",
     "timestamp": 1659706572404,
     "user": {
      "displayName": "Linda Mauron",
      "userId": "17004827077562637667"
     },
     "user_tz": -120
    },
    "id": "dbfMKGToCa2m",
    "outputId": "db81a7d6-8f08-4556-c146-d64a7d846931"
   },
   "outputs": [
    {
     "name": "stdout",
     "output_type": "stream",
     "text": [
      "Looking in indexes: https://pypi.org/simple, https://us-python.pkg.dev/colab-wheels/public/simple/\n",
      "Requirement already satisfied: jax in /usr/local/lib/python3.7/dist-packages (0.3.14)\n",
      "Requirement already satisfied: scipy>=1.5 in /usr/local/lib/python3.7/dist-packages (from jax) (1.7.3)\n",
      "Requirement already satisfied: etils[epath] in /usr/local/lib/python3.7/dist-packages (from jax) (0.6.0)\n",
      "Requirement already satisfied: numpy>=1.19 in /usr/local/lib/python3.7/dist-packages (from jax) (1.21.6)\n",
      "Requirement already satisfied: absl-py in /usr/local/lib/python3.7/dist-packages (from jax) (1.2.0)\n",
      "Requirement already satisfied: typing-extensions in /usr/local/lib/python3.7/dist-packages (from jax) (4.1.1)\n",
      "Requirement already satisfied: opt-einsum in /usr/local/lib/python3.7/dist-packages (from jax) (3.3.0)\n",
      "Requirement already satisfied: importlib_resources in /usr/local/lib/python3.7/dist-packages (from etils[epath]->jax) (5.9.0)\n",
      "Requirement already satisfied: zipp in /usr/local/lib/python3.7/dist-packages (from etils[epath]->jax) (3.8.1)\n",
      "Looking in indexes: https://pypi.org/simple, https://us-python.pkg.dev/colab-wheels/public/simple/\n",
      "Requirement already satisfied: jaxlib in /usr/local/lib/python3.7/dist-packages (0.3.14+cuda11.cudnn805)\n",
      "Requirement already satisfied: numpy>=1.19 in /usr/local/lib/python3.7/dist-packages (from jaxlib) (1.21.6)\n",
      "Requirement already satisfied: scipy>=1.5 in /usr/local/lib/python3.7/dist-packages (from jaxlib) (1.7.3)\n",
      "Requirement already satisfied: absl-py in /usr/local/lib/python3.7/dist-packages (from jaxlib) (1.2.0)\n",
      "Requirement already satisfied: flatbuffers<3.0,>=1.12 in /usr/local/lib/python3.7/dist-packages (from jaxlib) (2.0)\n",
      "Looking in indexes: https://pypi.org/simple, https://us-python.pkg.dev/colab-wheels/public/simple/\n",
      "Requirement already satisfied: pip in /usr/local/lib/python3.7/dist-packages (21.1.3)\n",
      "Collecting pip\n",
      "  Downloading pip-22.2.2-py3-none-any.whl (2.0 MB)\n",
      "\u001b[K     |████████████████████████████████| 2.0 MB 2.7 MB/s \n",
      "\u001b[?25hInstalling collected packages: pip\n",
      "  Attempting uninstall: pip\n",
      "    Found existing installation: pip 21.1.3\n",
      "    Uninstalling pip-21.1.3:\n",
      "      Successfully uninstalled pip-21.1.3\n",
      "Successfully installed pip-22.2.2\n",
      "Looking in indexes: https://pypi.org/simple, https://us-python.pkg.dev/colab-wheels/public/simple/\n",
      "Requirement already satisfied: jax in /usr/local/lib/python3.7/dist-packages (0.3.14)\n",
      "Collecting jax\n",
      "  Downloading jax-0.3.15.tar.gz (1.0 MB)\n",
      "\u001b[2K     \u001b[90m━━━━━━━━━━━━━━━━━━━━━━━━━━━━━━━━━━━━━━━━\u001b[0m \u001b[32m1.0/1.0 MB\u001b[0m \u001b[31m8.7 MB/s\u001b[0m eta \u001b[36m0:00:00\u001b[0m\n",
      "\u001b[?25h  Preparing metadata (setup.py) ... \u001b[?25l\u001b[?25hdone\n",
      "Requirement already satisfied: jaxlib in /usr/local/lib/python3.7/dist-packages (0.3.14+cuda11.cudnn805)\n",
      "Collecting jaxlib\n",
      "  Downloading jaxlib-0.3.15-cp37-none-manylinux2014_x86_64.whl (72.0 MB)\n",
      "\u001b[2K     \u001b[90m━━━━━━━━━━━━━━━━━━━━━━━━━━━━━━━━━━━━━━━━\u001b[0m \u001b[32m72.0/72.0 MB\u001b[0m \u001b[31m12.2 MB/s\u001b[0m eta \u001b[36m0:00:00\u001b[0m\n",
      "\u001b[?25hRequirement already satisfied: absl-py in /usr/local/lib/python3.7/dist-packages (from jax) (1.2.0)\n",
      "Requirement already satisfied: numpy>=1.19 in /usr/local/lib/python3.7/dist-packages (from jax) (1.21.6)\n",
      "Requirement already satisfied: opt_einsum in /usr/local/lib/python3.7/dist-packages (from jax) (3.3.0)\n",
      "Requirement already satisfied: scipy>=1.5 in /usr/local/lib/python3.7/dist-packages (from jax) (1.7.3)\n",
      "Requirement already satisfied: typing_extensions in /usr/local/lib/python3.7/dist-packages (from jax) (4.1.1)\n",
      "Requirement already satisfied: etils[epath] in /usr/local/lib/python3.7/dist-packages (from jax) (0.6.0)\n",
      "Requirement already satisfied: zipp in /usr/local/lib/python3.7/dist-packages (from etils[epath]->jax) (3.8.1)\n",
      "Requirement already satisfied: importlib_resources in /usr/local/lib/python3.7/dist-packages (from etils[epath]->jax) (5.9.0)\n",
      "Building wheels for collected packages: jax\n",
      "  Building wheel for jax (setup.py) ... \u001b[?25l\u001b[?25hdone\n",
      "  Created wheel for jax: filename=jax-0.3.15-py3-none-any.whl size=1201920 sha256=e5c2bcb2305108f2e89aea7e364fe4d647abfe35306a412caad507fdad29c0c7\n",
      "  Stored in directory: /root/.cache/pip/wheels/7b/36/dc/90243142efbc28986784e072b123d4e674dc79edd013ce665b\n",
      "Successfully built jax\n",
      "Installing collected packages: jaxlib, jax\n",
      "  Attempting uninstall: jaxlib\n",
      "    Found existing installation: jaxlib 0.3.14+cuda11.cudnn805\n",
      "    Uninstalling jaxlib-0.3.14+cuda11.cudnn805:\n",
      "      Successfully uninstalled jaxlib-0.3.14+cuda11.cudnn805\n",
      "  Attempting uninstall: jax\n",
      "    Found existing installation: jax 0.3.14\n",
      "    Uninstalling jax-0.3.14:\n",
      "      Successfully uninstalled jax-0.3.14\n",
      "Successfully installed jax-0.3.15 jaxlib-0.3.15\n",
      "\u001b[33mWARNING: Running pip as the 'root' user can result in broken permissions and conflicting behaviour with the system package manager. It is recommended to use a virtual environment instead: https://pip.pypa.io/warnings/venv\u001b[0m\u001b[33m\n",
      "\u001b[0mLooking in indexes: https://pypi.org/simple, https://us-python.pkg.dev/colab-wheels/public/simple/\n",
      "Collecting flax\n",
      "  Downloading flax-0.5.3-py3-none-any.whl (202 kB)\n",
      "\u001b[2K     \u001b[90m━━━━━━━━━━━━━━━━━━━━━━━━━━━━━━━━━━━━━━━\u001b[0m \u001b[32m202.0/202.0 kB\u001b[0m \u001b[31m5.3 MB/s\u001b[0m eta \u001b[36m0:00:00\u001b[0m\n",
      "\u001b[?25hRequirement already satisfied: matplotlib in /usr/local/lib/python3.7/dist-packages (from flax) (3.2.2)\n",
      "Collecting tensorstore\n",
      "  Downloading tensorstore-0.1.22-cp37-cp37m-manylinux_2_17_x86_64.manylinux2014_x86_64.whl (7.5 MB)\n",
      "\u001b[2K     \u001b[90m━━━━━━━━━━━━━━━━━━━━━━━━━━━━━━━━━━━━━━━━\u001b[0m \u001b[32m7.5/7.5 MB\u001b[0m \u001b[31m15.9 MB/s\u001b[0m eta \u001b[36m0:00:00\u001b[0m\n",
      "\u001b[?25hRequirement already satisfied: jax>=0.3.2 in /usr/local/lib/python3.7/dist-packages (from flax) (0.3.15)\n",
      "Requirement already satisfied: numpy>=1.12 in /usr/local/lib/python3.7/dist-packages (from flax) (1.21.6)\n",
      "Requirement already satisfied: msgpack in /usr/local/lib/python3.7/dist-packages (from flax) (1.0.4)\n",
      "Collecting optax\n",
      "  Downloading optax-0.1.3-py3-none-any.whl (145 kB)\n",
      "\u001b[2K     \u001b[90m━━━━━━━━━━━━━━━━━━━━━━━━━━━━━━━━━━━━━━\u001b[0m \u001b[32m145.1/145.1 kB\u001b[0m \u001b[31m12.1 MB/s\u001b[0m eta \u001b[36m0:00:00\u001b[0m\n",
      "\u001b[?25hCollecting rich~=11.1\n",
      "  Downloading rich-11.2.0-py3-none-any.whl (217 kB)\n",
      "\u001b[2K     \u001b[90m━━━━━━━━━━━━━━━━━━━━━━━━━━━━━━━━━━━━━━\u001b[0m \u001b[32m217.3/217.3 kB\u001b[0m \u001b[31m21.2 MB/s\u001b[0m eta \u001b[36m0:00:00\u001b[0m\n",
      "\u001b[?25hCollecting PyYAML>=5.4.1\n",
      "  Downloading PyYAML-6.0-cp37-cp37m-manylinux_2_5_x86_64.manylinux1_x86_64.manylinux_2_12_x86_64.manylinux2010_x86_64.whl (596 kB)\n",
      "\u001b[2K     \u001b[90m━━━━━━━━━━━━━━━━━━━━━━━━━━━━━━━━━━━━━━\u001b[0m \u001b[32m596.3/596.3 kB\u001b[0m \u001b[31m21.1 MB/s\u001b[0m eta \u001b[36m0:00:00\u001b[0m\n",
      "\u001b[?25hRequirement already satisfied: typing-extensions>=4.1.1 in /usr/local/lib/python3.7/dist-packages (from flax) (4.1.1)\n",
      "Requirement already satisfied: scipy>=1.5 in /usr/local/lib/python3.7/dist-packages (from jax>=0.3.2->flax) (1.7.3)\n",
      "Requirement already satisfied: opt-einsum in /usr/local/lib/python3.7/dist-packages (from jax>=0.3.2->flax) (3.3.0)\n",
      "Requirement already satisfied: absl-py in /usr/local/lib/python3.7/dist-packages (from jax>=0.3.2->flax) (1.2.0)\n",
      "Requirement already satisfied: etils[epath] in /usr/local/lib/python3.7/dist-packages (from jax>=0.3.2->flax) (0.6.0)\n",
      "Collecting commonmark<0.10.0,>=0.9.0\n",
      "  Downloading commonmark-0.9.1-py2.py3-none-any.whl (51 kB)\n",
      "\u001b[2K     \u001b[90m━━━━━━━━━━━━━━━━━━━━━━━━━━━━━━━━━━━━━━━━\u001b[0m \u001b[32m51.1/51.1 kB\u001b[0m \u001b[31m6.3 MB/s\u001b[0m eta \u001b[36m0:00:00\u001b[0m\n",
      "\u001b[?25hCollecting colorama<0.5.0,>=0.4.0\n",
      "  Downloading colorama-0.4.5-py2.py3-none-any.whl (16 kB)\n",
      "Requirement already satisfied: pygments<3.0.0,>=2.6.0 in /usr/local/lib/python3.7/dist-packages (from rich~=11.1->flax) (2.6.1)\n",
      "Requirement already satisfied: kiwisolver>=1.0.1 in /usr/local/lib/python3.7/dist-packages (from matplotlib->flax) (1.4.4)\n",
      "Requirement already satisfied: cycler>=0.10 in /usr/local/lib/python3.7/dist-packages (from matplotlib->flax) (0.11.0)\n",
      "Requirement already satisfied: python-dateutil>=2.1 in /usr/local/lib/python3.7/dist-packages (from matplotlib->flax) (2.8.2)\n",
      "Requirement already satisfied: pyparsing!=2.0.4,!=2.1.2,!=2.1.6,>=2.0.1 in /usr/local/lib/python3.7/dist-packages (from matplotlib->flax) (3.0.9)\n",
      "Requirement already satisfied: jaxlib>=0.1.37 in /usr/local/lib/python3.7/dist-packages (from optax->flax) (0.3.15)\n",
      "Collecting chex>=0.0.4\n",
      "  Downloading chex-0.1.4-py3-none-any.whl (76 kB)\n",
      "\u001b[2K     \u001b[90m━━━━━━━━━━━━━━━━━━━━━━━━━━━━━━━━━━━━━━━━\u001b[0m \u001b[32m76.7/76.7 kB\u001b[0m \u001b[31m9.6 MB/s\u001b[0m eta \u001b[36m0:00:00\u001b[0m\n",
      "\u001b[?25hRequirement already satisfied: dm-tree>=0.1.5 in /usr/local/lib/python3.7/dist-packages (from chex>=0.0.4->optax->flax) (0.1.7)\n",
      "Requirement already satisfied: toolz>=0.9.0 in /usr/local/lib/python3.7/dist-packages (from chex>=0.0.4->optax->flax) (0.12.0)\n",
      "Requirement already satisfied: six>=1.5 in /usr/local/lib/python3.7/dist-packages (from python-dateutil>=2.1->matplotlib->flax) (1.15.0)\n",
      "Requirement already satisfied: importlib_resources in /usr/local/lib/python3.7/dist-packages (from etils[epath]->jax>=0.3.2->flax) (5.9.0)\n",
      "Requirement already satisfied: zipp in /usr/local/lib/python3.7/dist-packages (from etils[epath]->jax>=0.3.2->flax) (3.8.1)\n",
      "Installing collected packages: commonmark, tensorstore, PyYAML, colorama, rich, chex, optax, flax\n",
      "  Attempting uninstall: PyYAML\n",
      "    Found existing installation: PyYAML 3.13\n",
      "    Uninstalling PyYAML-3.13:\n",
      "      Successfully uninstalled PyYAML-3.13\n",
      "Successfully installed PyYAML-6.0 chex-0.1.4 colorama-0.4.5 commonmark-0.9.1 flax-0.5.3 optax-0.1.3 rich-11.2.0 tensorstore-0.1.22\n",
      "\u001b[33mWARNING: Running pip as the 'root' user can result in broken permissions and conflicting behaviour with the system package manager. It is recommended to use a virtual environment instead: https://pip.pypa.io/warnings/venv\u001b[0m\u001b[33m\n",
      "\u001b[0mLooking in indexes: https://pypi.org/simple, https://us-python.pkg.dev/colab-wheels/public/simple/\n",
      "Collecting git+https://github.com/google/flax.git\n",
      "  Cloning https://github.com/google/flax.git to /tmp/pip-req-build-j_236dec\n",
      "  Running command git clone --filter=blob:none --quiet https://github.com/google/flax.git /tmp/pip-req-build-j_236dec\n",
      "  Resolved https://github.com/google/flax.git to commit e1712906e28e4ae4291b1fe9f96957a5919136ba\n",
      "  Preparing metadata (setup.py) ... \u001b[?25l\u001b[?25hdone\n",
      "Requirement already satisfied: numpy>=1.12 in /usr/local/lib/python3.7/dist-packages (from flax==0.5.3) (1.21.6)\n",
      "Requirement already satisfied: jax>=0.3.14 in /usr/local/lib/python3.7/dist-packages (from flax==0.5.3) (0.3.15)\n",
      "Requirement already satisfied: matplotlib in /usr/local/lib/python3.7/dist-packages (from flax==0.5.3) (3.2.2)\n",
      "Requirement already satisfied: msgpack in /usr/local/lib/python3.7/dist-packages (from flax==0.5.3) (1.0.4)\n",
      "Requirement already satisfied: optax in /usr/local/lib/python3.7/dist-packages (from flax==0.5.3) (0.1.3)\n",
      "Requirement already satisfied: rich~=11.1 in /usr/local/lib/python3.7/dist-packages (from flax==0.5.3) (11.2.0)\n",
      "Requirement already satisfied: typing_extensions>=4.1.1 in /usr/local/lib/python3.7/dist-packages (from flax==0.5.3) (4.1.1)\n",
      "Requirement already satisfied: PyYAML>=5.4.1 in /usr/local/lib/python3.7/dist-packages (from flax==0.5.3) (6.0)\n",
      "Requirement already satisfied: opt-einsum in /usr/local/lib/python3.7/dist-packages (from jax>=0.3.14->flax==0.5.3) (3.3.0)\n",
      "Requirement already satisfied: etils[epath] in /usr/local/lib/python3.7/dist-packages (from jax>=0.3.14->flax==0.5.3) (0.6.0)\n",
      "Requirement already satisfied: absl-py in /usr/local/lib/python3.7/dist-packages (from jax>=0.3.14->flax==0.5.3) (1.2.0)\n",
      "Requirement already satisfied: scipy>=1.5 in /usr/local/lib/python3.7/dist-packages (from jax>=0.3.14->flax==0.5.3) (1.7.3)\n",
      "Requirement already satisfied: colorama<0.5.0,>=0.4.0 in /usr/local/lib/python3.7/dist-packages (from rich~=11.1->flax==0.5.3) (0.4.5)\n",
      "Requirement already satisfied: commonmark<0.10.0,>=0.9.0 in /usr/local/lib/python3.7/dist-packages (from rich~=11.1->flax==0.5.3) (0.9.1)\n",
      "Requirement already satisfied: pygments<3.0.0,>=2.6.0 in /usr/local/lib/python3.7/dist-packages (from rich~=11.1->flax==0.5.3) (2.6.1)\n",
      "Requirement already satisfied: cycler>=0.10 in /usr/local/lib/python3.7/dist-packages (from matplotlib->flax==0.5.3) (0.11.0)\n",
      "Requirement already satisfied: pyparsing!=2.0.4,!=2.1.2,!=2.1.6,>=2.0.1 in /usr/local/lib/python3.7/dist-packages (from matplotlib->flax==0.5.3) (3.0.9)\n",
      "Requirement already satisfied: python-dateutil>=2.1 in /usr/local/lib/python3.7/dist-packages (from matplotlib->flax==0.5.3) (2.8.2)\n",
      "Requirement already satisfied: kiwisolver>=1.0.1 in /usr/local/lib/python3.7/dist-packages (from matplotlib->flax==0.5.3) (1.4.4)\n",
      "Requirement already satisfied: chex>=0.0.4 in /usr/local/lib/python3.7/dist-packages (from optax->flax==0.5.3) (0.1.4)\n",
      "Requirement already satisfied: jaxlib>=0.1.37 in /usr/local/lib/python3.7/dist-packages (from optax->flax==0.5.3) (0.3.15)\n",
      "Requirement already satisfied: dm-tree>=0.1.5 in /usr/local/lib/python3.7/dist-packages (from chex>=0.0.4->optax->flax==0.5.3) (0.1.7)\n",
      "Requirement already satisfied: toolz>=0.9.0 in /usr/local/lib/python3.7/dist-packages (from chex>=0.0.4->optax->flax==0.5.3) (0.12.0)\n",
      "Requirement already satisfied: six>=1.5 in /usr/local/lib/python3.7/dist-packages (from python-dateutil>=2.1->matplotlib->flax==0.5.3) (1.15.0)\n",
      "Requirement already satisfied: importlib_resources in /usr/local/lib/python3.7/dist-packages (from etils[epath]->jax>=0.3.14->flax==0.5.3) (5.9.0)\n",
      "Requirement already satisfied: zipp in /usr/local/lib/python3.7/dist-packages (from etils[epath]->jax>=0.3.14->flax==0.5.3) (3.8.1)\n",
      "\u001b[33mWARNING: Running pip as the 'root' user can result in broken permissions and conflicting behaviour with the system package manager. It is recommended to use a virtual environment instead: https://pip.pypa.io/warnings/venv\u001b[0m\u001b[33m\n",
      "\u001b[0mLooking in indexes: https://pypi.org/simple, https://us-python.pkg.dev/colab-wheels/public/simple/\n",
      "Collecting distrax\n",
      "  Downloading distrax-0.1.2-py3-none-any.whl (272 kB)\n",
      "\u001b[2K     \u001b[90m━━━━━━━━━━━━━━━━━━━━━━━━━━━━━━━━━━━━━━━\u001b[0m \u001b[32m272.0/272.0 kB\u001b[0m \u001b[31m4.3 MB/s\u001b[0m eta \u001b[36m0:00:00\u001b[0m\n",
      "\u001b[?25hRequirement already satisfied: absl-py>=0.9.0 in /usr/local/lib/python3.7/dist-packages (from distrax) (1.2.0)\n",
      "Requirement already satisfied: numpy>=1.18.0 in /usr/local/lib/python3.7/dist-packages (from distrax) (1.21.6)\n",
      "Requirement already satisfied: tensorflow-probability>=0.15.0 in /usr/local/lib/python3.7/dist-packages (from distrax) (0.16.0)\n",
      "Requirement already satisfied: jax>=0.1.55 in /usr/local/lib/python3.7/dist-packages (from distrax) (0.3.15)\n",
      "Requirement already satisfied: chex>=0.0.7 in /usr/local/lib/python3.7/dist-packages (from distrax) (0.1.4)\n",
      "Requirement already satisfied: jaxlib>=0.1.67 in /usr/local/lib/python3.7/dist-packages (from distrax) (0.3.15)\n",
      "Requirement already satisfied: dm-tree>=0.1.5 in /usr/local/lib/python3.7/dist-packages (from chex>=0.0.7->distrax) (0.1.7)\n",
      "Requirement already satisfied: toolz>=0.9.0 in /usr/local/lib/python3.7/dist-packages (from chex>=0.0.7->distrax) (0.12.0)\n",
      "Requirement already satisfied: opt-einsum in /usr/local/lib/python3.7/dist-packages (from jax>=0.1.55->distrax) (3.3.0)\n",
      "Requirement already satisfied: typing-extensions in /usr/local/lib/python3.7/dist-packages (from jax>=0.1.55->distrax) (4.1.1)\n",
      "Requirement already satisfied: etils[epath] in /usr/local/lib/python3.7/dist-packages (from jax>=0.1.55->distrax) (0.6.0)\n",
      "Requirement already satisfied: scipy>=1.5 in /usr/local/lib/python3.7/dist-packages (from jax>=0.1.55->distrax) (1.7.3)\n",
      "Requirement already satisfied: cloudpickle>=1.3 in /usr/local/lib/python3.7/dist-packages (from tensorflow-probability>=0.15.0->distrax) (1.3.0)\n",
      "Requirement already satisfied: gast>=0.3.2 in /usr/local/lib/python3.7/dist-packages (from tensorflow-probability>=0.15.0->distrax) (0.5.3)\n",
      "Requirement already satisfied: six>=1.10.0 in /usr/local/lib/python3.7/dist-packages (from tensorflow-probability>=0.15.0->distrax) (1.15.0)\n",
      "Requirement already satisfied: decorator in /usr/local/lib/python3.7/dist-packages (from tensorflow-probability>=0.15.0->distrax) (4.4.2)\n",
      "Requirement already satisfied: importlib_resources in /usr/local/lib/python3.7/dist-packages (from etils[epath]->jax>=0.1.55->distrax) (5.9.0)\n",
      "Requirement already satisfied: zipp in /usr/local/lib/python3.7/dist-packages (from etils[epath]->jax>=0.1.55->distrax) (3.8.1)\n",
      "Installing collected packages: distrax\n",
      "Successfully installed distrax-0.1.2\n",
      "\u001b[33mWARNING: Running pip as the 'root' user can result in broken permissions and conflicting behaviour with the system package manager. It is recommended to use a virtual environment instead: https://pip.pypa.io/warnings/venv\u001b[0m\u001b[33m\n",
      "\u001b[0mLooking in indexes: https://pypi.org/simple, https://us-python.pkg.dev/colab-wheels/public/simple/\n",
      "Requirement already satisfied: distrax in /usr/local/lib/python3.7/dist-packages (0.1.2)\n",
      "Requirement already satisfied: numpy>=1.18.0 in /usr/local/lib/python3.7/dist-packages (from distrax) (1.21.6)\n",
      "Requirement already satisfied: tensorflow-probability>=0.15.0 in /usr/local/lib/python3.7/dist-packages (from distrax) (0.16.0)\n",
      "Requirement already satisfied: jax>=0.1.55 in /usr/local/lib/python3.7/dist-packages (from distrax) (0.3.15)\n",
      "Requirement already satisfied: chex>=0.0.7 in /usr/local/lib/python3.7/dist-packages (from distrax) (0.1.4)\n",
      "Requirement already satisfied: absl-py>=0.9.0 in /usr/local/lib/python3.7/dist-packages (from distrax) (1.2.0)\n",
      "Requirement already satisfied: jaxlib>=0.1.67 in /usr/local/lib/python3.7/dist-packages (from distrax) (0.3.15)\n",
      "Requirement already satisfied: toolz>=0.9.0 in /usr/local/lib/python3.7/dist-packages (from chex>=0.0.7->distrax) (0.12.0)\n",
      "Requirement already satisfied: dm-tree>=0.1.5 in /usr/local/lib/python3.7/dist-packages (from chex>=0.0.7->distrax) (0.1.7)\n",
      "Requirement already satisfied: scipy>=1.5 in /usr/local/lib/python3.7/dist-packages (from jax>=0.1.55->distrax) (1.7.3)\n",
      "Requirement already satisfied: typing-extensions in /usr/local/lib/python3.7/dist-packages (from jax>=0.1.55->distrax) (4.1.1)\n",
      "Requirement already satisfied: etils[epath] in /usr/local/lib/python3.7/dist-packages (from jax>=0.1.55->distrax) (0.6.0)\n",
      "Requirement already satisfied: opt-einsum in /usr/local/lib/python3.7/dist-packages (from jax>=0.1.55->distrax) (3.3.0)\n",
      "Requirement already satisfied: decorator in /usr/local/lib/python3.7/dist-packages (from tensorflow-probability>=0.15.0->distrax) (4.4.2)\n",
      "Requirement already satisfied: cloudpickle>=1.3 in /usr/local/lib/python3.7/dist-packages (from tensorflow-probability>=0.15.0->distrax) (1.3.0)\n",
      "Requirement already satisfied: gast>=0.3.2 in /usr/local/lib/python3.7/dist-packages (from tensorflow-probability>=0.15.0->distrax) (0.5.3)\n",
      "Requirement already satisfied: six>=1.10.0 in /usr/local/lib/python3.7/dist-packages (from tensorflow-probability>=0.15.0->distrax) (1.15.0)\n",
      "Requirement already satisfied: importlib_resources in /usr/local/lib/python3.7/dist-packages (from etils[epath]->jax>=0.1.55->distrax) (5.9.0)\n",
      "Requirement already satisfied: zipp in /usr/local/lib/python3.7/dist-packages (from etils[epath]->jax>=0.1.55->distrax) (3.8.1)\n",
      "\u001b[33mWARNING: Running pip as the 'root' user can result in broken permissions and conflicting behaviour with the system package manager. It is recommended to use a virtual environment instead: https://pip.pypa.io/warnings/venv\u001b[0m\u001b[33m\n",
      "\u001b[0mLooking in indexes: https://pypi.org/simple, https://us-python.pkg.dev/colab-wheels/public/simple/\n",
      "Collecting git+https://github.com/deepmind/dm-haiku\n",
      "  Cloning https://github.com/deepmind/dm-haiku to /tmp/pip-req-build-2y4mglak\n",
      "  Running command git clone --filter=blob:none --quiet https://github.com/deepmind/dm-haiku /tmp/pip-req-build-2y4mglak\n",
      "  Resolved https://github.com/deepmind/dm-haiku to commit c5dddba7c99850e4ce5a6d8bb17fc3f06c236359\n",
      "  Preparing metadata (setup.py) ... \u001b[?25l\u001b[?25hdone\n",
      "Requirement already satisfied: absl-py>=0.7.1 in /usr/local/lib/python3.7/dist-packages (from dm-haiku==0.0.8.dev0) (1.2.0)\n",
      "Collecting jmp>=0.0.2\n",
      "  Downloading jmp-0.0.2-py3-none-any.whl (16 kB)\n",
      "Requirement already satisfied: numpy>=1.18.0 in /usr/local/lib/python3.7/dist-packages (from dm-haiku==0.0.8.dev0) (1.21.6)\n",
      "Requirement already satisfied: tabulate>=0.8.9 in /usr/local/lib/python3.7/dist-packages (from dm-haiku==0.0.8.dev0) (0.8.10)\n",
      "Requirement already satisfied: typing_extensions in /usr/local/lib/python3.7/dist-packages (from dm-haiku==0.0.8.dev0) (4.1.1)\n",
      "Building wheels for collected packages: dm-haiku\n",
      "  Building wheel for dm-haiku (setup.py) ... \u001b[?25l\u001b[?25hdone\n",
      "  Created wheel for dm-haiku: filename=dm_haiku-0.0.8.dev0-py3-none-any.whl size=608200 sha256=45b18dada73082fbc5aef2fa3d0daa6445c1aa408724aa260576eb30e64e82dd\n",
      "  Stored in directory: /tmp/pip-ephem-wheel-cache-mzgcernd/wheels/06/28/69/ebaac5b2435641427299f29d88d005fb4e2627f4a108f0bdbc\n",
      "Successfully built dm-haiku\n",
      "Installing collected packages: jmp, dm-haiku\n",
      "Successfully installed dm-haiku-0.0.8.dev0 jmp-0.0.2\n",
      "\u001b[33mWARNING: Running pip as the 'root' user can result in broken permissions and conflicting behaviour with the system package manager. It is recommended to use a virtual environment instead: https://pip.pypa.io/warnings/venv\u001b[0m\u001b[33m\n",
      "\u001b[0mLooking in indexes: https://pypi.org/simple, https://us-python.pkg.dev/colab-wheels/public/simple/\n",
      "\u001b[31mERROR: Could not find a version that satisfies the requirement haiku (from versions: 0.01_20110820-135621)\u001b[0m\u001b[31m\n",
      "\u001b[0m\u001b[31mERROR: No matching distribution found for haiku\u001b[0m\u001b[31m\n",
      "\u001b[0m"
     ]
    }
   ],
   "source": [
    "!pip install jax\n",
    "!pip install jaxlib\n",
    "\n",
    "!pip install --upgrade pip # To support manylinux2010 wheels.\n",
    "!pip install --upgrade jax jaxlib # CPU-only\n",
    "!pip install flax\n",
    "!pip install --upgrade git+https://github.com/google/flax.git\n",
    "\n",
    "!pip install distrax\n",
    "!pip install --upgrade distrax\n",
    "\n",
    "!pip install git+https://github.com/deepmind/dm-haiku\n",
    "!pip install --upgrade haiku"
   ]
  },
  {
   "cell_type": "code",
   "execution_count": 2,
   "metadata": {
    "colab": {
     "base_uri": "https://localhost:8080/"
    },
    "executionInfo": {
     "elapsed": 3890,
     "status": "ok",
     "timestamp": 1659706576283,
     "user": {
      "displayName": "Linda Mauron",
      "userId": "17004827077562637667"
     },
     "user_tz": -120
    },
    "id": "Sw4HsV5zCgqi",
    "outputId": "78fa8efe-6c1b-4b4d-923f-791368a3f84c"
   },
   "outputs": [
    {
     "name": "stderr",
     "output_type": "stream",
     "text": [
      "WARNING:absl:No GPU/TPU found, falling back to CPU. (Set TF_CPP_MIN_LOG_LEVEL=0 and rerun for more info.)\n"
     ]
    }
   ],
   "source": [
    "import numpy as np \n",
    "import matplotlib.pyplot as plt\n",
    "\n",
    "import jax \n",
    "import jax.numpy as jnp\n",
    "import jax.random as rnd\n",
    "key = rnd.PRNGKey(12)\n",
    "\n",
    "from jax import jit, vmap, grad\n",
    "import flax.linen as nn\n",
    "from jax.config import config; config.update(\"jax_enable_x64\", True)\n",
    "from jax.core import NamedShape\n",
    "from jax.tree_util import tree_map\n",
    "\n",
    "\n",
    "from functools import partial\n",
    "\n",
    "try:\n",
    "    from tqdm.auto import tqdm  # progressbar\n",
    "except ImportError:\n",
    "    tqdm = lambda x: x\n",
    "\n",
    "from typing import Any, Callable, Sequence\n",
    "\n",
    "import distrax\n",
    "#from tensorflow_probability.substrates import jax as tfp\n",
    "#tfd = tfp.distributions\n",
    "from distrax._src.bijectors.scalar_affine import ScalarAffine\n",
    "from distrax._src.bijectors.shift import Shift\n",
    "\n",
    "import optax\n",
    "\n",
    "import haiku as hk"
   ]
  },
  {
   "cell_type": "markdown",
   "metadata": {
    "id": "bzAKbdDSEYV1"
   },
   "source": [
    "# Learning easily (1D no NN)"
   ]
  },
  {
   "cell_type": "markdown",
   "metadata": {
    "id": "8jo-wDC_U1Wq"
   },
   "source": [
    "## Distribution"
   ]
  },
  {
   "cell_type": "code",
   "execution_count": null,
   "metadata": {
    "id": "XpKMabUTMBFE"
   },
   "outputs": [],
   "source": [
    "def normal(x,mu=0,sigma=1):\n",
    "  return jnp.exp(-(x-mu)**2/2/sigma**2)/jnp.sqrt(2*jnp.pi)/sigma\n",
    "\n",
    "\n",
    "class Distribution:\n",
    "  '''\n",
    "  Creates a distribution which is an addition of two gaussians.\n",
    "  The proportionality between the two is given by prop. \n",
    "\n",
    "  x ~ prop*N(mu1,sigma1) + (1-prop)*N(mu2,sigma2). \n",
    "  '''\n",
    "\n",
    "  def __init__(self,mu1,mu2,sigma1,sigma2,prop=0.5):\n",
    "    assert prop <= 1 and prop >= 0\n",
    "    self.mu1 = mu1\n",
    "    self.mu2 = mu2\n",
    "    self.sigma1 = sigma1\n",
    "    self.sigma2 = sigma2\n",
    "\n",
    "    self.prop=prop\n",
    "\n",
    "  def p(self,x):\n",
    "    '''\n",
    "    probability of a sample x\n",
    "    '''\n",
    "    return self.prop*normal(x,self.mu1,self.sigma1) + (1-self.prop)*normal(x,self.mu2,self.sigma2)\n",
    "\n",
    "  @partial(jit, static_argnums=0)\n",
    "  def log_prob(self,x):\n",
    "    '''\n",
    "    unnormalized log probability of a sample\n",
    "    does not need to be a nomralized probability\n",
    "    '''\n",
    "    return jnp.log( self.prop*jnp.exp(-(x-self.mu1)**2/2/self.sigma1**2)/self.sigma1 + (1-self.prop)*jnp.exp(-(x-self.mu2)**2/2/self.sigma2**2)/self.sigma2 )[:,0]\n",
    "  \n",
    "  def sample(self,key,T=1,Ns=500):\n",
    "    '''\n",
    "    Draw samples according to p (normally we don't have it, here we are only testing)\n",
    "    only works if p is normalized\n",
    "    '''\n",
    "    key1, key2 = rnd.split(key)\n",
    "\n",
    "    eta = rnd.uniform(key1, shape=(T,Ns))\n",
    "    mask = jnp.array((eta<self.prop), dtype=int)\n",
    "\n",
    "    z = rnd.normal(key2, shape=(T,Ns))\n",
    "\n",
    "    return mask * (z*self.sigma1 + self.mu1) + (1-mask)*(z*self.sigma2 + self.mu2)\n"
   ]
  },
  {
   "cell_type": "markdown",
   "metadata": {
    "id": "tp4ejgnZEqlk"
   },
   "source": [
    "## Learn"
   ]
  },
  {
   "cell_type": "code",
   "execution_count": null,
   "metadata": {
    "id": "SE17esMKnXQC"
   },
   "outputs": [],
   "source": [
    "def plot(q,p, key=rnd.PRNGKey(12), loss=None, Ns=1000, name=None):\n",
    "  key1, key2 = rnd.split(key)\n",
    "  x, logq = q._sample_n_and_log_prob(key1, Ns)\n",
    "\n",
    "\n",
    "  idx = jnp.argsort(x)\n",
    "\n",
    "\n",
    "  plt.figure(figsize=(16,4))\n",
    "\n",
    "\n",
    "  plt.subplot(1,3,2)\n",
    "  plt.title('Sampling q_θ')\n",
    "  hst = plt.hist(x, label='q_θ', bins=20)\n",
    "\n",
    "  qmax = jnp.max(hst[0])\n",
    "  probs_p = jnp.exp( p.log_prob(x[idx]) )\n",
    "\n",
    "  C = qmax/jnp.max(probs_p)\n",
    "  A = jnp.max(probs_p)/np.exp( jnp.max(logq) )\n",
    "\n",
    "  plt.plot(x[idx], C*probs_p ,label='p')\n",
    "  plt.legend()\n",
    "\n",
    "  plt.subplot(1,3,3)\n",
    "  plt.title('Probability')\n",
    "  plt.plot(x[idx], A*jnp.exp( logq[idx] ), label='q_θ')\n",
    "  plt.plot(x[idx], jnp.exp( p.log_prob(x[idx]) ),label='p')\n",
    "  plt.legend()\n",
    "\n",
    "  if loss is None: \n",
    "    plt.show()\n",
    "    return\n",
    "\n",
    "  plt.subplot(1,3,1)\n",
    "  plt.title('Evolution of the loss')\n",
    "  plt.plot(loss)\n",
    "  plt.xlabel('Iteration')\n",
    "  plt.ylabel('Loss')\n",
    "\n",
    "  if name is None: \n",
    "    plt.show()\n",
    "    return \n",
    "\n",
    "  plt.savefig(name, dpi=200, bbox_inches='tight')\n",
    "  plt.show()\n",
    "  return\n",
    "\n",
    "\n",
    "def q_theta(params):\n",
    "  bij = distrax.Chain([ distrax.Inverse( distrax.Tanh() ), \n",
    "                       distrax.RationalQuadraticSpline(params, -1.0, 1.0), \n",
    "                       ])\n",
    "  return distrax.Transformed( distrax.Uniform(-1,1), bij )\n",
    "\n",
    "\n",
    "################################################################################\n",
    "@jit\n",
    "def log_q(params, x):\n",
    "  '''\n",
    "  Computes the log probability of the sample x in the parametrized distribution\n",
    "  params : parameters of the distribution q_theta\n",
    "  x : single sample for which we evaluate ()\n",
    "\n",
    "  Returns : log(q_theta(x)) ()\n",
    "  '''\n",
    "  bij = distrax.Chain([ distrax.Inverse( distrax.Tanh() ), \n",
    "                       distrax.RationalQuadraticSpline(params, -1.0, 1.0), \n",
    "                       ])\n",
    "  q =  distrax.Transformed( distrax.Uniform(-1,1), bij )\n",
    "\n",
    "  return q.log_prob(x)\n",
    "\n",
    "def loss_and_grad(key, params, p, Ns):\n",
    "  '''\n",
    "  Computes the loss and its gradient\n",
    "  key : random key to use\n",
    "  params : parameters of the distribution q_theta\n",
    "  p : distribution to learn\n",
    "  Ns : number of samples\n",
    "  \n",
    "  Returns : loss () and gradient of the loss (params.shape)\n",
    "  '''\n",
    "  # Construct the parametrized distribution\n",
    "  bij = distrax.Chain([ distrax.Inverse( distrax.Tanh() ), \n",
    "                       distrax.RationalQuadraticSpline(params, -1.0, 1.0), \n",
    "                       ])\n",
    "  q =  distrax.Transformed( distrax.Uniform(-1,1), bij )\n",
    "\n",
    "  # sample from q\n",
    "  data = q._sample_n(key, Ns)\n",
    "\n",
    "  # get the values to average\n",
    "  logq, d_logq = vmap( jax.value_and_grad(log_q, 0), (None,0), -1 )(params, data)\n",
    "\n",
    "  logp = p.log_prob(data)\n",
    "\n",
    "  # compute L and grad_L as expectation value over x~q\n",
    "  L = jnp.mean( logq - logp )\n",
    "  grad_L = jnp.mean( d_logq*(logq - logp), axis = -1 )\n",
    "\n",
    "  return L, grad_L"
   ]
  },
  {
   "cell_type": "markdown",
   "metadata": {
    "id": "RThwQYEgk5k_"
   },
   "source": [
    "### Tests"
   ]
  },
  {
   "cell_type": "code",
   "execution_count": null,
   "metadata": {
    "colab": {
     "base_uri": "https://localhost:8080/"
    },
    "executionInfo": {
     "elapsed": 1054,
     "status": "ok",
     "timestamp": 1658756609157,
     "user": {
      "displayName": "Linda Mauron",
      "userId": "17004827077562637667"
     },
     "user_tz": -120
    },
    "id": "TmX-Qh_-aV5B",
    "outputId": "062d1aaf-957d-41f8-d073-40b8c20ba28f"
   },
   "outputs": [
    {
     "name": "stdout",
     "output_type": "stream",
     "text": [
      "[8.84261451e-01 8.73094297e-01 3.36202489e-01 2.12963283e-01\n",
      " 1.27898847e-01 2.92199620e-01 3.07833344e-01 7.07058081e-01\n",
      " 5.67816733e-01 3.19321156e-01 1.21034329e-01 6.54182289e-01\n",
      " 7.69759385e-01 6.70143110e-01 5.62226765e-01 9.27920411e-01\n",
      " 6.26132204e-01 8.69864313e-01 3.55446259e-01 7.21637887e-01\n",
      " 6.12749660e-01 7.56232848e-01 2.05246141e-01 4.41909885e-04\n",
      " 7.86708633e-01 3.97205658e-02 5.09226936e-02 6.25560504e-02\n",
      " 1.25045793e-01 1.68634276e-01 9.08546574e-01]\n",
      "New implementation \t -0.6537771120532068 [ 8.79916805e-02  6.12084403e-02 -2.51379636e-02  4.45252000e-02\n",
      "  7.08388029e-02  4.24257172e-02  5.00701877e-02 -7.98106413e-02\n",
      "  6.49364542e-02 -3.17047878e-01 -2.63196985e-01  1.01363053e-02\n",
      "  9.54947056e-02 -2.35605382e-03 -2.52292196e-02 -9.11355155e-02\n",
      " -7.93093781e-02  5.56232824e-02 -5.05631384e-02  3.50535997e-01\n",
      " -3.56398984e-02  4.32001054e-02 -2.35390553e-04 -1.13544747e-03\n",
      " -6.38262958e-03 -1.12950758e-02  1.18567305e-04 -1.72061782e-02\n",
      "  7.99289131e-03  1.05197203e-01 -4.72228807e-02]\n"
     ]
    },
    {
     "data": {
      "image/png": "[encoded data removed]",
      "text/plain": [
       "<Figure size 432x288 with 1 Axes>"
      ]
     },
     "metadata": {},
     "output_type": "display_data"
    }
   ],
   "source": [
    "# Test implementation, dimensions and range\n",
    "\n",
    "mu1=-1\n",
    "mu2=1\n",
    "sigma1=0.5\n",
    "sigma2=0.5\n",
    "prop = 0.3\n",
    "p = Distribution(mu1,mu2,sigma1,sigma2,prop=prop)\n",
    "\n",
    "nbins = 10\n",
    "key = rnd.PRNGKey(2)\n",
    "params_test = rnd.uniform(key, (3*nbins+1,))\n",
    "key, _ = rnd.split(key, 2)\n",
    "\n",
    "plt.hist( q_theta(params_test)._sample_n(key, 10000) )\n",
    "print(params_test)\n",
    "key1, key2 = rnd.split(key, 2)\n",
    "\n",
    "\n",
    "l, g = loss_and_grad(key1, params_test,p, Ns=15)\n",
    "\n",
    "print(l, g)"
   ]
  },
  {
   "cell_type": "code",
   "execution_count": null,
   "metadata": {
    "colab": {
     "base_uri": "https://localhost:8080/"
    },
    "executionInfo": {
     "elapsed": 1159407,
     "status": "ok",
     "timestamp": 1658756529970,
     "user": {
      "displayName": "Linda Mauron",
      "userId": "17004827077562637667"
     },
     "user_tz": -120
    },
    "id": "bdMlpPLwUliW",
    "outputId": "f79cf5f7-3dec-488b-fdf9-b3272a5dc4f6"
   },
   "outputs": [
    {
     "name": "stdout",
     "output_type": "stream",
     "text": [
      "0 -0.24496520190930365 -0.238073449843057 \n",
      "\n",
      "1 0.5656834720314002 0.5642708522657358 \n",
      "\n",
      "2 0.09862631636053251 0.09818534874028728 \n",
      "\n",
      "3 -0.051582534729380965 -0.05842548667089886 \n",
      "\n",
      "4 -0.36776205175324833 -0.3617939281497229 \n",
      "\n",
      "5 0.3025914810623928 0.29726221484338566 \n",
      "\n",
      "6 -0.38393582305255325 -0.37740643943351415 \n",
      "\n",
      "7 -0.2503512026580946 -0.2531308496145357 \n",
      "\n",
      "8 -0.0504891427502616 -0.05703770789011742 \n",
      "\n",
      "9 0.38218468739851663 0.38719027983802334 \n",
      "\n",
      "10 -0.012853948944292065 -0.012906342661267445 \n",
      "\n",
      "11 0.017581845193805606 0.017555401576885288 \n",
      "\n",
      "12 0.019289697020376573 0.019290125052862095 \n",
      "\n",
      "13 0.022726276399797143 0.022620794126737565 \n",
      "\n",
      "14 0.0027803921362794296 0.0028449465006019636 \n",
      "\n",
      "15 -0.0055454761851123375 -0.00548172618408671 \n",
      "\n"
     ]
    }
   ],
   "source": [
    "# Testing the grad with finite differences\n",
    "\n",
    "key = rnd.PRNGKey(10)\n",
    "\n",
    "mu1=-1\n",
    "mu2=1\n",
    "sigma1=0.5\n",
    "sigma2=0.5\n",
    "prop = 0.3\n",
    "p = Distribution(mu1,mu2,sigma1,sigma2,prop=prop)\n",
    "\n",
    "nbins = 5\n",
    "key = rnd.PRNGKey(12)\n",
    "params = rnd.uniform(key, (3*nbins+1,))\n",
    "key, _ = rnd.split(key, 2)\n",
    "\n",
    "Ns = 1e7\n",
    "step = 1e-13\n",
    "\n",
    "_, real_g = loss_and_grad(key, params, p, Ns)\n",
    "\n",
    "for idx in range(3*nbins+1):\n",
    "  # select component to derivate\n",
    "  mask = np.zeros_like(params)\n",
    "  mask[idx] = 1\n",
    "\n",
    "  # finite differences\n",
    "  plus_l, _ = loss_and_grad(key, params + mask*step, p, Ns)\n",
    "  minus_l, _ = loss_and_grad(key, params - mask*step, p, Ns)\n",
    "  finite_diff = (plus_l - minus_l)/step/2\n",
    "\n",
    "  # compare\n",
    "  print(idx, real_g[idx], finite_diff, '\\n')\n",
    "\n"
   ]
  },
  {
   "cell_type": "markdown",
   "metadata": {
    "id": "m8ZgyI59k8Sb"
   },
   "source": [
    "### Optimization"
   ]
  },
  {
   "cell_type": "code",
   "execution_count": null,
   "metadata": {
    "colab": {
     "base_uri": "https://localhost:8080/",
     "height": 761,
     "referenced_widgets": [
      "b9286f37b2aa4dbbba0552805ccae52d",
      "ae24aff1e78643fabd9a5ce34a92b1d5",
      "3aa9f5d332ba41d5a8680a9bb7fd1a77",
      "1f2e5ba3ca5f4ee89918778e51c4ab96",
      "43ecf50e52bf4bacb4f97807665da33a",
      "e5b6329c4e3148a2a8d068db985bedae",
      "2e7d96b23dfa4b1a9489114caf8c4edb",
      "03640ffa00e74f9e87215825e8966f0d",
      "1d24bff9514e4a65be9765638c415747",
      "c244f39a9f9f482d8bbd05b4d2aa310c",
      "a2347a980c27400e82672083ba62634d"
     ]
    },
    "executionInfo": {
     "elapsed": 532507,
     "status": "ok",
     "timestamp": 1658761092389,
     "user": {
      "displayName": "Linda Mauron",
      "userId": "17004827077562637667"
     },
     "user_tz": -120
    },
    "id": "eNPz0SVT076q",
    "outputId": "0b3ec312-0abf-4197-ffcc-ac6bca9c0331"
   },
   "outputs": [
    {
     "data": {
      "application/vnd.jupyter.widget-view+json": {
       "model_id": "b9286f37b2aa4dbbba0552805ccae52d",
       "version_major": 2,
       "version_minor": 0
      },
      "text/plain": [
       "  0%|          | 0/5000 [00:00<?, ?it/s]"
      ]
     },
     "metadata": {},
     "output_type": "display_data"
    },
    {
     "name": "stdout",
     "output_type": "stream",
     "text": [
      "5000 Loss =  -0.7724700152954053\n",
      "5200 Loss =  -0.7750402982661608\n",
      "5400 Loss =  -0.7695910944179394\n",
      "5600 Loss =  -0.76849343063457\n",
      "5800 Loss =  -0.7733782049745077\n",
      "6000 Loss =  -0.7789813353099515\n",
      "6200 Loss =  -0.7691506135091416\n",
      "6400 Loss =  -0.7712941155976476\n",
      "6600 Loss =  -0.7760612274850665\n",
      "6800 Loss =  -0.7817960770090376\n",
      "7000 Loss =  -0.7913637174673239\n",
      "7200 Loss =  -0.77992905852921\n",
      "7400 Loss =  -0.7813748298821529\n",
      "7600 Loss =  -0.7927505022988329\n",
      "7800 Loss =  -0.7912451429913214\n",
      "8000 Loss =  -0.7960858011174802\n",
      "8200 Loss =  -0.7901254252203815\n",
      "8400 Loss =  -0.7768942168417422\n",
      "8600 Loss =  -0.7882004550848185\n",
      "8800 Loss =  -0.8042372515473414\n",
      "9000 Loss =  -0.78923532039304\n",
      "9200 Loss =  -0.788934552775888\n",
      "9400 Loss =  -0.7917098994806395\n",
      "9600 Loss =  -0.8026142585358242\n",
      "9800 Loss =  -0.8000214694739566\n"
     ]
    },
    {
     "data": {
      "image/png": "[encoded data removed]",
      "text/plain": [
       "<Figure size 1152x288 with 3 Axes>"
      ]
     },
     "metadata": {},
     "output_type": "display_data"
    }
   ],
   "source": [
    "nsteps = 10000\n",
    "lr = 1e-3\n",
    "\n",
    "mu1=-1\n",
    "mu2=1\n",
    "sigma1=0.5\n",
    "sigma2=0.5\n",
    "prop = 0.3\n",
    "p = Distribution(mu1,mu2,sigma1,sigma2,prop=prop)\n",
    "\n",
    "nbins = 7\n",
    "#key = rnd.PRNGKey(12)\n",
    "#params = rnd.uniform(key, (3*nbins+1,))\n",
    "#key, _ = rnd.split(key, 2)\n",
    "\n",
    "tx = optax.sgd(learning_rate=lr)\n",
    "opt_state = tx.init(params)\n",
    "\n",
    "Ns = 10000\n",
    "L = np.zeros(nsteps)\n",
    "for i in tqdm(range(5000, nsteps)):\n",
    "  L[i], g = loss_and_grad(key, params, p, Ns)\n",
    "\n",
    "  key, _ = rnd.split(key, 2)\n",
    "\n",
    "  if jnp.abs(L[i]) == np.infty or jnp.isnan(L[i]):\n",
    "    print(g)\n",
    "    break\n",
    "\n",
    "  updates, opt_state = tx.update(g, opt_state)\n",
    "  params = optax.apply_updates(params, updates)\n",
    "\n",
    "  if i % 200 == 0:\n",
    "    print(i, 'Loss = ', L[i])\n",
    "\n",
    "\n",
    "plot(q_theta(params), p, loss=L, name='1D_distribution_7bins.png')\n"
   ]
  },
  {
   "cell_type": "code",
   "execution_count": null,
   "metadata": {
    "colab": {
     "base_uri": "https://localhost:8080/",
     "height": 295
    },
    "executionInfo": {
     "elapsed": 3052,
     "status": "ok",
     "timestamp": 1658761239648,
     "user": {
      "displayName": "Linda Mauron",
      "userId": "17004827077562637667"
     },
     "user_tz": -120
    },
    "id": "b_hmh3y41Fl4",
    "outputId": "5d3f7752-8b0d-4fb2-d5d2-4708fb96b60e"
   },
   "outputs": [
    {
     "data": {
      "image/png": "[encoded data removed]",
      "text/plain": [
       "<Figure size 1152x288 with 3 Axes>"
      ]
     },
     "metadata": {},
     "output_type": "display_data"
    }
   ],
   "source": [
    "plot(q_theta(params), p, loss=L, name='1D_distribution_7bins.png')\n"
   ]
  },
  {
   "cell_type": "code",
   "execution_count": null,
   "metadata": {
    "id": "NODoZGc24x4D"
   },
   "outputs": [],
   "source": [
    "# save numpy array as csv file\n",
    "from numpy import asarray\n",
    "from numpy import savetxt\n",
    "\n",
    "'''\n",
    "# save to csv file\n",
    "savetxt(f'/content/trained_7bins_L.csv', L, delimiter=',')\n",
    "savetxt(f'/content/trained_7bins_p.csv', params, delimiter=',')\n",
    "\n",
    "\n",
    "\n",
    "g_test = np.loadtxt(f'/content/trained_20bins_p.csv', dtype='float', comments='#', delimiter=',')#, converters=None, skiprows=0, usecols=None, unpack=False, ndmin=0)\n",
    "L_test = np.loadtxt(f'/content/trained_20bins_L.csv', dtype='float', comments='#', delimiter=',')#, converters=None, skiprows=0, usecols=None, unpack=False, ndmin=0)\n",
    "'''\n"
   ]
  },
  {
   "cell_type": "markdown",
   "metadata": {
    "id": "R7JFKeKLVpEq"
   },
   "source": []
  },
  {
   "cell_type": "markdown",
   "metadata": {
    "id": "Z7vqs2HPVxuX"
   },
   "source": [
    "# Multi dimensional distributions"
   ]
  },
  {
   "cell_type": "markdown",
   "metadata": {
    "id": "rC3w9C_QVxuZ"
   },
   "source": [
    "### Uncorrelated"
   ]
  },
  {
   "cell_type": "code",
   "execution_count": null,
   "metadata": {
    "id": "2WVHfBgSVxuZ"
   },
   "outputs": [],
   "source": [
    "class UncorrelatedBiDimensionalDistribution:\n",
    "  '''\n",
    "  Creates a distribution which is an addition of two gaussians.\n",
    "  The proportionality between the two is given by prop. \n",
    "  '''\n",
    "\n",
    "  def __init__(self,mus,sigmas,coeffs):\n",
    "    assert len(mus) == len(sigmas) & len(mus) == len(coeffs)\n",
    "    self.mus = mus\n",
    "    self.sigmas = sigmas\n",
    "\n",
    "    self.coeffs=coeffs\n",
    "\n",
    "  @partial(jit, static_argnums=0)\n",
    "  def log_prob(self,x):\n",
    "    '''\n",
    "    unnormalized log probability of a sample\n",
    "    does not need to be a nomralized probability\n",
    "    x : samples (Ns, dimension=len(mus))\n",
    "\n",
    "    Returns : log_p of the samples (Ns,)\n",
    "    '''\n",
    "    p = 0\n",
    "    for i in range(len(self.mus)):\n",
    "      p += self.coeffs[i]*jnp.exp(-(x-self.mus[i])**2/2/self.sigmas[i]) / self.sigmas[i]\n",
    "    \n",
    "    lp = jnp.sum( jnp.log( p ), axis=-1 )\n",
    "    return lp\n",
    "\n"
   ]
  },
  {
   "cell_type": "code",
   "execution_count": null,
   "metadata": {
    "colab": {
     "base_uri": "https://localhost:8080/",
     "height": 300
    },
    "executionInfo": {
     "elapsed": 2101,
     "status": "ok",
     "timestamp": 1658905987416,
     "user": {
      "displayName": "Linda Mauron",
      "userId": "17004827077562637667"
     },
     "user_tz": -120
    },
    "id": "pnV1yW-RVxua",
    "outputId": "0968d0d6-f8b5-44db-8284-a2c10a645a10"
   },
   "outputs": [
    {
     "name": "stdout",
     "output_type": "stream",
     "text": [
      "()\n"
     ]
    },
    {
     "data": {
      "image/png": "[encoded data removed]",
      "text/plain": [
       "<Figure size 432x288 with 2 Axes>"
      ]
     },
     "metadata": {},
     "output_type": "display_data"
    }
   ],
   "source": [
    "mus = np.array([[1,1], [1,-1], [-1,1], [-1,-1]])\n",
    "sigmas = np.array([0.3,1,0.5,0.5])\n",
    "coeffs = np.array([0.1, 0.4, 0.3, 0.2])\n",
    "distr = UncorrelatedBiDimensionalDistribution(mus, sigmas, coeffs)\n",
    "\n",
    "\n",
    "\n",
    "# Verify gaussian shape\n",
    "x = np.linspace(-5, 5, 101)\n",
    "\n",
    "\n",
    "\n",
    "p = np.zeros( (101,101) )\n",
    "for k in range(101):\n",
    "    for j in range(101):\n",
    "        p[k,j] = distr.log_p( np.array([x[k],x[j]]) )\n",
    "\n",
    "\n",
    "fig = plt.figure()\n",
    "ax = fig.add_subplot(111)\n",
    "\n",
    "im = ax.contourf(x, x, p, levels=50)\n",
    "ax.contour(x, x, p, levels=50, colors='black', linewidths=.5)\n",
    "\n",
    "#im = ax.scatter(phi1, phi2,c=p)\n",
    "cbar = plt.colorbar(im)\n",
    "cbar.set_label(r'$\\log \\tilde{P}(\\phi_1, \\phi_2)$')\n",
    "ax.set_xlabel('$\\phi_1$')\n",
    "ax.set_ylabel('$\\phi_2$')\n",
    "plt.show()\n",
    "\n",
    "\n"
   ]
  },
  {
   "cell_type": "code",
   "execution_count": null,
   "metadata": {
    "colab": {
     "base_uri": "https://localhost:8080/"
    },
    "executionInfo": {
     "elapsed": 6625,
     "status": "ok",
     "timestamp": 1658913561960,
     "user": {
      "displayName": "Linda Mauron",
      "userId": "17004827077562637667"
     },
     "user_tz": -120
    },
    "id": "wQ0limYWVxub",
    "outputId": "936eeb97-a2dd-40bd-c3ab-51a1c6a89ecc"
   },
   "outputs": [
    {
     "name": "stdout",
     "output_type": "stream",
     "text": [
      "(10000,)\n"
     ]
    }
   ],
   "source": [
    "\n",
    "nbins = 4\n",
    "key = rnd.PRNGKey(2)\n",
    "\n",
    "test_model = Model(key, hidden_size=10, number_layers=2, mlp_layers=[3,5,3,3*nbins+1], p=distr)\n",
    "\n",
    "l, g = test_model.loss_and_grad(key, test_model.params, 10000)\n",
    "key, _ = rnd.split(key, 2)\n"
   ]
  },
  {
   "cell_type": "markdown",
   "metadata": {
    "id": "uU0piTaxVxuc"
   },
   "source": [
    "### Correlated"
   ]
  },
  {
   "cell_type": "code",
   "execution_count": null,
   "metadata": {
    "id": "raAVTxrEVxuc"
   },
   "outputs": [],
   "source": [
    "class CorrelatedBiDimensionalDistribution:\n",
    "  '''\n",
    "  Creates a distribution which is an addition of two gaussians.\n",
    "  The proportionality between the two is given by prop. \n",
    "  '''\n",
    "\n",
    "  def __init__(self,mus,Sigmas,coeffs):\n",
    "    self.mus = mus\n",
    "\n",
    "    # inverse of covariance matrix\n",
    "    self.C = []\n",
    "    self.norms = []\n",
    "    for i in range(len(mus)):\n",
    "      self.C.append( np.linalg.inv(Sigmas[i]) )\n",
    "      self.norms.append( np.linalg.norm(self.C[i]) )\n",
    "\n",
    "    self.coeffs=coeffs\n",
    "\n",
    "  @partial(jit, static_argnums=0)\n",
    "  def log_prob(self,data):\n",
    "    '''\n",
    "    unnormalized log probability of a sample\n",
    "    does not need to be a nomralized probability\n",
    "    data : samples (Ns, dimension=len(mus))\n",
    "\n",
    "    Returns : log_p of the samples (Ns,)\n",
    "    '''\n",
    "    Ns = data.shape[0]\n",
    "\n",
    "    p = np.zeros( (Ns,) )\n",
    "    for i in range(len(self.mus)):\n",
    "\n",
    "      arg = jnp.einsum('...j,jk,...k', (data-self.mus[i]), self.C[i], (data-self.mus[i]) )\n",
    "      #print( (self.coeffs[i]*np.exp(-arg/2) /np.sqrt(self.norms[i])).shape )\n",
    "      p += self.coeffs[i]*jnp.exp(-arg/2) /jnp.sqrt(self.norms[i])\n",
    "    \n",
    "    lp = jnp.log( p )\n",
    "    return lp\n",
    "\n"
   ]
  },
  {
   "cell_type": "code",
   "execution_count": null,
   "metadata": {
    "colab": {
     "base_uri": "https://localhost:8080/"
    },
    "executionInfo": {
     "elapsed": 202,
     "status": "ok",
     "timestamp": 1659018989808,
     "user": {
      "displayName": "Linda Mauron",
      "userId": "17004827077562637667"
     },
     "user_tz": -120
    },
    "id": "cUaT5AwVVxud",
    "outputId": "965b88ee-57ba-4a37-9bbf-7a707cb15240"
   },
   "outputs": [
    {
     "data": {
      "text/plain": [
       "array([2.8, 0.2])"
      ]
     },
     "execution_count": 234,
     "metadata": {},
     "output_type": "execute_result"
    }
   ],
   "source": [
    "np.linalg.eigvals( np.array([[2,-1.2],[-1.2,1]]) )"
   ]
  },
  {
   "cell_type": "code",
   "execution_count": null,
   "metadata": {
    "colab": {
     "base_uri": "https://localhost:8080/",
     "height": 287
    },
    "executionInfo": {
     "elapsed": 12591,
     "status": "ok",
     "timestamp": 1659527023487,
     "user": {
      "displayName": "Linda Mauron",
      "userId": "17004827077562637667"
     },
     "user_tz": -120
    },
    "id": "jWxqSOiaVxue",
    "outputId": "d8fd4c01-5c95-4434-c679-e4cb076285f7"
   },
   "outputs": [
    {
     "data": {
      "image/png": "[encoded data removed]",
      "text/plain": [
       "<Figure size 432x288 with 2 Axes>"
      ]
     },
     "metadata": {},
     "output_type": "display_data"
    }
   ],
   "source": [
    "#mus = [np.array([-1,-1]).T, np.array([1,1]).T]\n",
    "#sigmas = [np.array([[0.5,0.15],[0.3,0.25]]), np.array([[0.5,0.3],[0.15,0.25]])]\n",
    "#coeffs = np.array([0.1, 0.3])\n",
    "\n",
    "mus = [np.array([-1,-1]).T, \n",
    "       np.array([-1,1]).T, \n",
    "       np.array([1,1]).T, \n",
    "       np.array([1,-1]).T\n",
    "       ]\n",
    "sigmas = [np.array([[0.5,0.3],[0.3,0.25]]), \n",
    "          np.array([[0.5,0.3],[0.3,0.25]]), \n",
    "          np.array([[0.5,0.3],[0.3,0.25]]), \n",
    "          np.array([[0.5,0.3],[0.3,0.25]])\n",
    "          ]\n",
    "coeffs = [0.05, 0.4, 0.4, 0.15]\n",
    "distr = CorrelatedBiDimensionalDistribution(mus, sigmas, coeffs)\n",
    "\n",
    "\n",
    "\n",
    "# Verify gaussian shape\n",
    "x = np.linspace(-5, 5, 101)\n",
    "\n",
    "\n",
    "p = np.zeros( (101,101) )\n",
    "for k in range(101):\n",
    "    for j in range(101):\n",
    "        p[k,j] = distr.log_prob( np.array([[x[k],x[j]]]) )\n",
    "\n",
    "\n",
    "fig = plt.figure()\n",
    "ax = fig.add_subplot(111)\n",
    "\n",
    "im = ax.contourf(x, x, p, levels=50)\n",
    "ax.contour(x, x, p, levels=50, colors='black', linewidths=.5)\n",
    "\n",
    "\n",
    "cbar = plt.colorbar(im)\n",
    "cbar.set_label(r'$\\log \\tilde{P}(\\phi_1, \\phi_2)$')\n",
    "ax.set_xlabel('$\\phi_1$')\n",
    "ax.set_ylabel('$\\phi_2$')\n",
    "plt.show()\n",
    "\n",
    "\n"
   ]
  },
  {
   "cell_type": "code",
   "execution_count": null,
   "metadata": {
    "id": "_DPELNT8Vxuf"
   },
   "outputs": [],
   "source": [
    "mus = [np.tile([-1,-1], (10000,1)), np.tile([1,1], (10000,1))]\n",
    "\n",
    "sigmas = [np.array([[0.5,0.15],[0.3,0.25]]), np.array([[0.5,0.3],[0.15,0.25]])]\n",
    "coeffs = [0.1, 0.3]\n",
    "distr = CorrelatedBiDimensionalDistribution(mus, sigmas, coeffs)\n",
    "\n",
    "\n",
    "nbins = 4\n",
    "key = rnd.PRNGKey(2)\n",
    "\n",
    "test_model = Model(key, hidden_size=10, number_layers=2, mlp_layers=[3,5,3,3*nbins+1], p=distr)\n",
    "\n",
    "l, g = test_model.loss_and_grad(key, test_model.params, 10000)\n",
    "key, _ = rnd.split(key, 2)\n"
   ]
  },
  {
   "cell_type": "markdown",
   "metadata": {
    "id": "y1HYP9gzVxuf"
   },
   "source": [
    "### Ising"
   ]
  },
  {
   "cell_type": "code",
   "execution_count": null,
   "metadata": {
    "id": "kLrAgHbtVxug"
   },
   "outputs": [],
   "source": [
    "def generate_H(N, beta, h, dim=1):\n",
    "  '''\n",
    "  Generates the external field matrix H\n",
    "  \n",
    "  N : number of particles\n",
    "  beta : inverse temperature of the system\n",
    "  h : amplitude of the field\n",
    "  dim : numer of dimensions (default 1)\n",
    "\n",
    "  returns : H matrix (N,)\n",
    "  '''\n",
    "  assert dim==1 or dim==2 or dim==3\n",
    "\n",
    "  return beta*h*np.ones( N**dim )\n",
    "\n",
    "def generate_NN(N, beta, jnn, dim=1, pbc=True):\n",
    "  '''\n",
    "  Generates the interaction matrices (mulriplied by beta) for the second neighbours model\n",
    "\n",
    "  N : number of particles\n",
    "  beta : inverse temperature of the system\n",
    "  jnn : amplitude of the first neighbour interaction\n",
    "  dim : numer of dimensions (default 1)\n",
    "  pbc : if the system presents periodic boundary conditions (default True)\n",
    "\n",
    "  returns : modified interaction matrix K (N,N) and normal one J (N,N)\n",
    "  '''\n",
    "  assert dim==1 or dim==2 or dim==3\n",
    "\n",
    "  # Nearest neighbours matrix\n",
    "  NN = np.diag(np.ones(N-1), 1) + np.diag(np.ones(N-1), -1)\n",
    "\n",
    "  # Boundary conditions\n",
    "  if pbc : \n",
    "    NN[0,N-1] = 1\n",
    "    NN[N-1,0] = 1\n",
    "  NN *= jnn\n",
    "\n",
    "  # Construct nearest neighbour for each lattice\n",
    "  if dim == 1 : \n",
    "    '''\n",
    "    Nearest neighbours in (+/-a)\n",
    "    '''\n",
    "    J = NN\n",
    "  if dim == 2:\n",
    "    '''\n",
    "    Nearest neighbours in (+/-a,0), (0,+/-a)\n",
    "    '''\n",
    "    I = np.diag( np.ones(N) )\n",
    "    J = np.kron(I,NN) + np.kron(NN,I)\n",
    "  if dim == 3:\n",
    "    '''\n",
    "    Nearest neighbours in (+/- a,0,0), (0,+/- a,0), (0,0,+/- a)\n",
    "    '''\n",
    "    I = np.diag( np.ones(N) )\n",
    "    J = np.kron(np.kron(I, NN), I) + np.kron(np.kron(NN, I), I) + np.kron(I, np.kron(I,NN))\n",
    "\n",
    "  # Construct J and K\n",
    "  J = beta*J\n",
    "  K = J + 2.5*dim*beta*np.abs(jnn)*np.diag(np.ones(N**dim))\n",
    "  return K,J\n",
    "\n",
    "def generate_NNN(N, beta, jnn, jnnn, dim=1, pbc=True):\n",
    "  '''\n",
    "  Generates the interaction matrices (mulriplied by beta) for the second neighbours model\n",
    "\n",
    "  N : number of particles\n",
    "  beta : inverse temperature of the system\n",
    "  jnn : amplitude of the first neighbour interaction\n",
    "  jnnn : amplitude of the second neighbour interaction\n",
    "  dim : numer of dimensions (default 1)\n",
    "  pbc : if the system presents periodic boundary conditions (default True)\n",
    "\n",
    "  returns : modified interaction matrix K (N,N) & standard one J (N,N)\n",
    "  '''\n",
    "  assert dim==1 or dim==2 or dim==3\n",
    "\n",
    "  # Nearest neighbours\n",
    "  T = np.diag(np.ones(N-1), 1) + np.diag(np.ones(N-1), -1)\n",
    "\n",
    "  # Boundary conditions\n",
    "  if pbc : \n",
    "    T[0,N-1] = 1\n",
    "    T[N-1,0] = 1\n",
    "\n",
    "  if dim == 1 : \n",
    "    '''\n",
    "    Nearest neighbours in (+/-a)\n",
    "    Second neighbours in (+/-2a)\n",
    "    '''\n",
    "    NNN = np.diag(np.ones(N-2), 2) + np.diag(np.ones(N-2), -2)\n",
    "    if pbc : \n",
    "        NNN[0,N-2] = 1\n",
    "        NNN[N-2,0] = 1\n",
    "    J = jnn*T + jnnn*NNN\n",
    "  if dim == 2:\n",
    "    '''\n",
    "    Nearest neighbours in (+/-a,0), (0,+/-a)\n",
    "    Second neighbours in (+/-a,+/-a)\n",
    "    '''\n",
    "    I = np.diag( np.ones(N) )\n",
    "    J = jnn*np.kron(I,T) + jnn*np.kron(T,I) + jnnn*np.kron(T,T)\n",
    "  if dim == 3:\n",
    "    '''\n",
    "    Nearest neighbours in (+/- a,0,0), (0,+/- a,0), (0,0,+/- a)\n",
    "    Second neighbours in (+/-a,+/-a,0), (+/-a,0,+/-a), (0,+/-a,+/-a)\n",
    "    '''\n",
    "    I = np.diag( np.ones(N) )\n",
    "    J = jnn*( np.kron(np.kron(I, T), I) + np.kron(np.kron(T, I), I) + np.kron(I, np.kron(I,T)) )\n",
    "    J += jnnn*( np.kron(np.kron(T, I), T) + np.kron(np.kron(I, T), T) + np.kron(T, np.kron(T,I)) )\n",
    "\n",
    "  # Construct J and K\n",
    "  if jnnn ==0:\n",
    "    diag = 2.5*dim*beta*np.abs(jnn)\n",
    "  else : \n",
    "    diag = 6*dim*beta*max(np.abs(jnn),np.abs(jnnn))\n",
    "\n",
    "  J = beta*J\n",
    "  K = J +diag*np.diag(np.ones(N**dim))\n",
    "  return K,J"
   ]
  },
  {
   "cell_type": "code",
   "execution_count": null,
   "metadata": {
    "id": "U2XGKszwVxui"
   },
   "outputs": [],
   "source": [
    "class IsingDistribution:\n",
    "  '''\n",
    "  Probability distribution of the ising model for a given interaction matrix and external field\n",
    "  H = - 0.5 * sum_ij s_i J_ij s_j - sum_i h_i s_i\n",
    "\n",
    "  hint : j=1 is ferromagnetic\n",
    "  '''\n",
    "  def __init__(self, N, J, K, H, beta=None):\n",
    "    '''\n",
    "    Initialises the model for the given interactions and fields. \n",
    "\n",
    "    N : number of particles (int)\n",
    "    J : NxN array defining the interactions (multiplied by beta already)\n",
    "    K : J with addititonal diagonal terms to be positive definite\n",
    "    H : external field (multiplied by beta)\n",
    "    '''\n",
    "    # Verifying the shapes of the matrices\n",
    "    assert J.shape[0] == N and J.shape[1] == N and J.shape == K.shape\n",
    "\n",
    "    # Verifying that K is indeed positive definite\n",
    "    assert (np.linalg.eigvalsh(K) > 0).all()\n",
    "\n",
    "    self.N = N\n",
    "    self.J = J\n",
    "    self.K = K\n",
    "    self.H = H\n",
    "    self.beta = beta\n",
    "\n",
    "  def log_prob(self,phis):\n",
    "    '''\n",
    "    Log of the unnormalized probability distribution in continuous space\n",
    "    phi : ambiant field for which one computes the prob, shape (Ns,n_part)\n",
    "\n",
    "    return : log(p(phi)), shape (Ns,)\n",
    "    '''\n",
    "    # Exponential part\n",
    "    p = -0.5*jnp.einsum('...j,jk,...k', phis, self.K, phis )\n",
    "    \n",
    "    # Product of i part (separating the log for stability)\n",
    "    x = jnp.einsum('jk,...k', self.K, phis ) + self.H\n",
    "    p += jnp.sum( jnp.abs(x) + jnp.log1p(jnp.exp(-2*jnp.abs(x))) , axis=-1 )\n",
    "      \n",
    "    return p\n",
    "\n",
    "  def discrete_log_prob(self,spins):\n",
    "    '''\n",
    "    Probability in the spin space\n",
    "    spins : spin samples (Ns,n_part)\n",
    "\n",
    "    return : log(p(s)) = -beta*E(s), shape (SHAPE)\n",
    "    '''\n",
    "    return 0.5*jnp.einsum('ji,ik,jk->j', spins, self.J, spins) + jnp.einsum('k,jk->j', self.H,spins)\n",
    "    return 0.5*spins.T @ self.J @ spins + self.H@spins\n",
    "\n",
    "  def componentwise_magn(self,data): #OK\n",
    "    '''\n",
    "    Coputes the magnetization of each component for a bunch of data\n",
    "    data : data sampled over whcich to average (Ns,N)\n",
    "\n",
    "    returns : magnetization (N,)\n",
    "    '''\n",
    "    g = jnp.tanh( jnp.einsum('jk,...k', self.K, data ) + self.H )\n",
    "\n",
    "    return jnp.mean(g, axis=0)\n",
    "\n",
    "  def mean_magn(self,data): #OK\n",
    "    '''\n",
    "    Computes the mean magnetization over all components\n",
    "    data : data sampled over whcich to average (Ns,N)\n",
    "\n",
    "    returns : mean magnetization ()\n",
    "    '''\n",
    "    g = jnp.tanh( jnp.einsum('jk,...k', self.K, data ) + self.H ).mean(axis=-1)\n",
    "\n",
    "    return jnp.mean(g, axis=0)\n",
    "\n",
    "\n",
    "  def correlations(self,data, i=0):\n",
    "    '''\n",
    "    Computes the correlations between the spin i and the other spins (also itself)\n",
    "    data : data sampled over whcich to average (Ns,N)\n",
    "    i : component w.r.t. which to compute the correlations\n",
    "\n",
    "    returns : array of correlations (N,)\n",
    "    '''\n",
    "    m = jnp.tanh( jnp.einsum('jk,nk->nj', self.K, data ) + self.H )\n",
    "\n",
    "    g = m[i] * m # IS THERE A - MISSING ???\n",
    "\n",
    "    g = g.at[:,i].set(1.0)\n",
    "\n",
    "    return jnp.mean(g, axis=0)\n",
    "\n",
    "  def magnetic_suscpetibility(self,data):\n",
    "    '''\n",
    "    Computes the magnetic susceptibility of the lattice\n",
    "    data : data sampled over whcich to average (Ns,N)\n",
    "\n",
    "    returns : magnetic susceptibility ()\n",
    "    '''\n",
    "    m = jnp.tanh( jnp.einsum('jk,nk->nj', self.K, data ) + self.H )\n",
    "\n",
    "    energys = self.beta**2/self.N**2 * jnp.sum( jnp.einsum('ji,jk->jik', m, m), axis=(-1,-2) )\n",
    "    return jnp.mean(energys, axis=0)\n",
    "\n",
    "  def energy(self,data):\n",
    "    '''\n",
    "    Computes the energy of the lattice\n",
    "    data : data sampled over whcich to average (Ns,N)\n",
    "\n",
    "    returns : energy ()\n",
    "    '''\n",
    "    x = jnp.einsum('jk,nk->nj', self.K, data ) + self.H\n",
    "    \n",
    "\n",
    "    E_loc = (0.5*jnp.einsum('nj,jk,nk->n', data, self.K, data ) - jnp.einsum('ni,ni->n', x, jnp.tanh(x)) )/self.beta\n",
    "\n",
    "    return jnp.mean(E_loc, axis=0) + jnp.einsum('ii', self.K)\n",
    "\n"
   ]
  },
  {
   "cell_type": "code",
   "execution_count": null,
   "metadata": {
    "id": "4qTlh5I0Vxuk"
   },
   "outputs": [],
   "source": []
  },
  {
   "cell_type": "markdown",
   "metadata": {
    "id": "sHz8d0J7oy1J"
   },
   "source": [
    "# \"Not so recurrent\" NNs"
   ]
  },
  {
   "cell_type": "markdown",
   "metadata": {
    "id": "t-eFOqE13QoP"
   },
   "source": [
    "## Tests"
   ]
  },
  {
   "cell_type": "code",
   "execution_count": null,
   "metadata": {
    "colab": {
     "base_uri": "https://localhost:8080/"
    },
    "executionInfo": {
     "elapsed": 1002,
     "status": "ok",
     "timestamp": 1658833997117,
     "user": {
      "displayName": "Linda Mauron",
      "userId": "17004827077562637667"
     },
     "user_tz": -120
    },
    "id": "9SznYZtbE0XO",
    "outputId": "6eb728c1-a120-40bd-829e-d2fdee79ed24"
   },
   "outputs": [
    {
     "name": "stdout",
     "output_type": "stream",
     "text": [
      "(9, 5)\n"
     ]
    }
   ],
   "source": [
    "class MyModuleCustom(hk.Module):\n",
    "  def __init__(self, hidden_size, number_layers, name='one_module'):\n",
    "    super().__init__(name=name)\n",
    "    self.rnn = hk.VanillaRNN(hidden_size=hidden_size) #shared weights\n",
    "    self.number_layers = number_layers\n",
    "\n",
    "\n",
    "  def __call__(self,hidden_state,previous_output):\n",
    "    '''\n",
    "    Returns a list of outputs o in the RNN chain\n",
    "    '''\n",
    "    outputs = []\n",
    "    h = hidden_state\n",
    "    o = previous_output\n",
    "    for t in range(self.number_layers):\n",
    "      h, o = self.rnn(h, o)\n",
    "      outputs.append(o)\n",
    "    return jnp.array(outputs)\n",
    "\n",
    "#@hk.without_apply_rng\n",
    "#@hk.transform\n",
    "def _custom_forward_fn(hidden_size, number_layers, h0, o0):\n",
    "  module = MyModuleCustom(hidden_size, number_layers)\n",
    "  return module(h0, o0)\n",
    "\n",
    "rng_key = rnd.PRNGKey(2)\n",
    "sample_x = jnp.ones(5)\n",
    "prev = jnp.ones(5)\n",
    "forward_fn = hk.without_apply_rng(hk.transform(lambda h0,o0 : _custom_forward_fn(h0 = h0, o0 = o0, hidden_size=5, number_layers=9)))\n",
    "params = forward_fn.init(rng=rng_key, h0=sample_x, o0=prev)\n",
    "\n",
    "outputs = forward_fn.apply(params, h0 = sample_x, o0 = prev)\n",
    "\n",
    "\n",
    "print(outputs.shape)\n",
    "#print(params)\n",
    "\n",
    "\n"
   ]
  },
  {
   "cell_type": "code",
   "execution_count": null,
   "metadata": {
    "colab": {
     "base_uri": "https://localhost:8080/"
    },
    "executionInfo": {
     "elapsed": 242,
     "status": "ok",
     "timestamp": 1658733119143,
     "user": {
      "displayName": "Linda Mauron",
      "userId": "17004827077562637667"
     },
     "user_tz": -120
    },
    "id": "H9g6hRuYKUTk",
    "outputId": "a94881c6-5358-4c4c-e764-aacceb8de0e5"
   },
   "outputs": [
    {
     "name": "stdout",
     "output_type": "stream",
     "text": [
      "(9, 10)\n"
     ]
    }
   ],
   "source": [
    "#@hk.without_apply_rng\n",
    "#@hk.transform\n",
    "def MLP(layers, x):\n",
    "  module = hk.nets.MLP(layers)\n",
    "  return module(x)\n",
    "\n",
    "nbins = 3\n",
    "mlp = hk.without_apply_rng(hk.transform(lambda x : MLP([5,2,3*nbins+1], x) ))\n",
    "#mlp = hk.nets.MLP([1, 2, 3])\n",
    "\n",
    "params = mlp.init(rng=rng_key, x = sample_x)\n",
    "out = mlp.apply(params, x=outputs)\n",
    "\n",
    "print(out.shape)"
   ]
  },
  {
   "cell_type": "markdown",
   "metadata": {
    "id": "OJgRaeSx3TvK"
   },
   "source": [
    "## Modules to load"
   ]
  },
  {
   "cell_type": "code",
   "execution_count": null,
   "metadata": {
    "id": "Ls3LOdkCDbNV"
   },
   "outputs": [],
   "source": [
    "#################################### Vanilla ###################################\n",
    "class Vanilla_MLP_Module(hk.Module):\n",
    "  def __init__(self, hidden_size, number_layers, mlp_layers, name='Vanilla_module'):\n",
    "    '''\n",
    "    hidden_size : size of each input/output\n",
    "    number_layers : number of times the RNN is called (corresponds to the number of particles)\n",
    "    mlp_layers : the layers of the MLP\n",
    "    '''\n",
    "    super().__init__(name=name)\n",
    "    self.rnn = hk.VanillaRNN(hidden_size=hidden_size) #shared weights\n",
    "    self.number_layers = number_layers\n",
    "\n",
    "    self.mlp = hk.nets.MLP(mlp_layers, \n",
    "                           activation = jax.nn.tanh, \n",
    "                           w_init = hk.initializers.RandomNormal(1,0),\n",
    "                           b_init = hk.initializers.Constant(0), \n",
    "                           )\n",
    "\n",
    "\n",
    "  def __call__(self,inputs,previous_state=None):\n",
    "    '''\n",
    "    Returns a list of outputs o in the RNN chain\n",
    "    inputs : intial entry of the RNN (o0), shape : (Ns, hidden_size)\n",
    "    previous_state : previous state of the netowrk [hidden: (hidden_Ns), cell: (hidden_Ns)]\n",
    "\n",
    "    return : outputs (number_layers, Ns, mlp_layers[-1]) & [hidden: (hidden_Ns), cell: (hidden_Ns)]\n",
    "    '''\n",
    "    # Prepare states\n",
    "    if previous_state is None:\n",
    "      previous_state = self.rnn.initial_state(inputs.shape[0])\n",
    "    o = inputs\n",
    "\n",
    "    # Get through network and memorize outputs\n",
    "    outputs = []\n",
    "    for t in range(self.number_layers):\n",
    "      o, previous_state = self.rnn(o, previous_state)\n",
    "      outputs.append(o)\n",
    "    outputs = jnp.array(outputs)\n",
    "\n",
    "    # return outputs and the final states (to go on if needed)\n",
    "    return self.mlp(outputs), previous_state\n",
    "\n",
    "############################## Vanilla not shared ##############################\n",
    "class Vanilla_MLP_unshared_Module(hk.Module):\n",
    "  def __init__(self, hidden_size, number_layers, mlp_layers, name='Vanilla_module'):\n",
    "    '''\n",
    "    hidden_size : size of each input/output\n",
    "    number_layers : number of times the RNN is called (corresponds to the number of particles)\n",
    "    mlp_layers : the layers of the MLP\n",
    "    '''\n",
    "    super().__init__(name=name)\n",
    "    self.rnn = hk.VanillaRNN(hidden_size=hidden_size) #shared weights\n",
    "    self.number_layers = number_layers\n",
    "\n",
    "    self.mlp = []\n",
    "    for t in range(self.number_layers) : \n",
    "      self.mlp.append( hk.nets.MLP(mlp_layers, \n",
    "                                   activation = jax.nn.tanh, \n",
    "                                   w_init = hk.initializers.RandomNormal(1,0),\n",
    "                                   b_init = hk.initializers.Constant(0), \n",
    "                                   name = f'mlp_{t}'\n",
    "                                   )\n",
    "      )\n",
    "\n",
    "\n",
    "  def __call__(self,inputs,previous_state=None):\n",
    "    '''\n",
    "    Returns a list of outputs o in the RNN chain\n",
    "    inputs : intial entry of the RNN (o0), shape : (Ns, hidden_size)\n",
    "    previous_state : previous state of the netowrk [hidden: (hidden_Ns), cell: (hidden_Ns)]\n",
    "\n",
    "    return : outputs (number_layers, Ns, mlp_layers[-1]) & [hidden: (hidden_Ns), cell: (hidden_Ns)]\n",
    "    '''\n",
    "    # Prepare states\n",
    "    if previous_state is None:\n",
    "      previous_state = self.rnn.initial_state(inputs.shape[0])\n",
    "    o = inputs\n",
    "\n",
    "    # Get through network and memorize outputs\n",
    "    outputs = []\n",
    "    for t in range(self.number_layers):\n",
    "      o, previous_state = self.rnn(o, previous_state)\n",
    "      outputs.append( self.mlp[t](o) )\n",
    "    outputs = jnp.array(outputs)\n",
    "\n",
    "    # return outputs and the final states (to go on if needed)\n",
    "    return outputs, previous_state\n",
    "\n",
    "\n",
    "##################################### LSTM #####################################\n",
    "class LSTM_MLP_Module(hk.Module):\n",
    "  def __init__(self, hidden_size, number_layers, mlp_layers, name='LSTM_module'):\n",
    "    '''\n",
    "    hidden_size : size of each input/output\n",
    "    number_layers : number of times the RNN is called (corresponds to the number of particles)\n",
    "    mlp_layers : the layers of the MLP\n",
    "    '''\n",
    "    super().__init__(name=name)\n",
    "    self.rnn = hk.LSTM(hidden_size=hidden_size) #shared weights\n",
    "\n",
    "    self.number_layers = number_layers\n",
    "    \n",
    "    self.mlp = hk.nets.MLP(\n",
    "        mlp_layers,\n",
    "        activation = jax.nn.tanh, \n",
    "        w_init = hk.initializers.VarianceScaling(1.0, \"fan_in\",  \"truncated_normal\"), #hk.initializers.RandomNormal(1,0),\n",
    "        b_init = hk.initializers.Constant(0), \n",
    "        )\n",
    "\n",
    "  def __call__(self,inputs, previous_state=None):\n",
    "    '''\n",
    "    Returns a list of outputs o in the RNN chain\n",
    "    inputs : intial entry of the RNN (o0), shape : (Ns, hidden_size)\n",
    "    previous_state : previous state of the netowrk [hidden: (hidden_Ns), cell: (hidden_Ns)]\n",
    "\n",
    "    return : outputs (number_layers, Ns, mlp_layers[-1]) & [hidden: (hidden_Ns), cell: (hidden_Ns)]\n",
    "    '''\n",
    "    # Prepare states\n",
    "    if previous_state is None:\n",
    "      previous_state = self.rnn.initial_state(inputs.shape[0])\n",
    "    o = inputs\n",
    "\n",
    "    # Get through network and memorize outputs\n",
    "    outputs = []\n",
    "    for i in range(self.number_layers):\n",
    "      o, previous_state = self.rnn(o, previous_state)\n",
    "      outputs.append(o)\n",
    "    outputs = jnp.array(outputs)\n",
    "\n",
    "    # return outputs and the final states (to go on if needed)\n",
    "    return self.mlp(outputs), previous_state\n",
    "\n",
    "\n",
    "###################################### GRU #####################################\n",
    "class GRU_MLP_Module(hk.Module):\n",
    "  def __init__(self, hidden_size, number_layers, mlp_layers, name='GRU_module'):\n",
    "    '''\n",
    "    hidden_size : size of each input/output\n",
    "    number_layers : number of times the RNN is called (corresponds to the number of particles)\n",
    "    mlp_layers : the layers of the MLP\n",
    "    '''\n",
    "    super().__init__(name=name)\n",
    "    self.rnn = hk.GRU(\n",
    "        hidden_size=hidden_size,\n",
    "        w_i_init = hk.initializers.RandomNormal(1,0), \n",
    "        w_h_init = hk.initializers.RandomNormal(1,0), \n",
    "        b_init = hk.initializers.Constant(0)\n",
    "        ) #shared weights\n",
    "    self.number_layers = number_layers\n",
    "\n",
    "    self.mlp = hk.nets.MLP(\n",
    "        mlp_layers, \n",
    "        activation = jax.nn.tanh, \n",
    "        w_init = hk.initializers.RandomNormal(1,0),\n",
    "        b_init = hk.initializers.Constant(0), \n",
    "        )\n",
    "\n",
    "\n",
    "  def __call__(self,inputs,previous_state=None):\n",
    "    '''\n",
    "    Returns a list of outputs o in the RNN chain\n",
    "    inputs : intial entry of the RNN (o0), shape : (Ns, hidden_size)\n",
    "    previous_state : previous state of the netowrk [hidden: (hidden_Ns), cell: (hidden_Ns)]\n",
    "\n",
    "    return : outputs (number_layers, Ns, mlp_layers[-1]) & [hidden: (hidden_Ns), cell: (hidden_Ns)]\n",
    "    '''\n",
    "    # Prepare states\n",
    "    if previous_state is None:\n",
    "      previous_state = self.rnn.initial_state(inputs.shape[0])\n",
    "    o = inputs\n",
    "\n",
    "    # Get through network and memorize outputs\n",
    "    outputs = []\n",
    "    for t in range(self.number_layers):\n",
    "      o, previous_state = self.rnn(o, previous_state)\n",
    "      outputs.append(o)\n",
    "    outputs = jnp.array(outputs)\n",
    "\n",
    "    # return outputs and the final states (to go on if needed)\n",
    "    return self.mlp(outputs), previous_state\n",
    "\n",
    "\n",
    "################################### Function ###################################\n",
    "def module_fn(Module, hidden_size, number_layers, mlp_layers, inputs):\n",
    "  '''\n",
    "  Forwards the RNN + MLP network\n",
    "\n",
    "  Module : module to use for the RNN (can be Vanilla_MLP_Module or LSTM_MLP_Module)\n",
    "  hidden_size : size of each input/output\n",
    "  number_layers : number of times the RNN is called (corresponds to the number of particles)\n",
    "  mlp_layers : the layers of the MLP\n",
    "  inputs : intial entry of the RNN (o0), shape : (Ns, hidden_size)\n",
    "  '''\n",
    "  module = Module(hidden_size, number_layers, mlp_layers)\n",
    "  return module(inputs)\n"
   ]
  },
  {
   "cell_type": "code",
   "execution_count": 3,
   "metadata": {
    "executionInfo": {
     "elapsed": 389,
     "status": "ok",
     "timestamp": 1659706576644,
     "user": {
      "displayName": "Linda Mauron",
      "userId": "17004827077562637667"
     },
     "user_tz": -120
    },
    "id": "af_uIgy8lIdM"
   },
   "outputs": [],
   "source": []
  },
  {
   "cell_type": "code",
   "execution_count": null,
   "metadata": {
    "colab": {
     "base_uri": "https://localhost:8080/"
    },
    "executionInfo": {
     "elapsed": 1121,
     "status": "ok",
     "timestamp": 1659429229716,
     "user": {
      "displayName": "Linda Mauron",
      "userId": "17004827077562637667"
     },
     "user_tz": -120
    },
    "id": "2NwQaKA15FyL",
    "outputId": "1b4b2383-a6d7-48a8-a297-a55790dca698"
   },
   "outputs": [
    {
     "name": "stdout",
     "output_type": "stream",
     "text": [
      "(1, 3)\n",
      "LSTMState(hidden=DeviceArray([[-0.09001352]], dtype=float64), cell=DeviceArray([[-0.19624762]], dtype=float64))\n"
     ]
    }
   ],
   "source": [
    "\n",
    "key = rnd.PRNGKey(2)\n",
    "hidden_size = 5\n",
    "nbins = 2\n",
    "\n",
    "\n",
    "rng_key = rnd.PRNGKey(2)\n",
    "sample_x = jnp.ones( (1,7) )\n",
    "\n",
    "\n",
    "forward_fn = hk.without_apply_rng(hk.transform(lambda inputs : module_fn(Module=LSTM_MLP_Module, inputs = inputs, hidden_size=7, number_layers=9, mlp_layers = [6,3])))\n",
    "params = forward_fn.init(rng=rng_key, inputs=sample_x)\n",
    "\n",
    "outputs, state = forward_fn.apply(params, inputs = sample_x)\n",
    "print(outputs[:,0,:].shape)\n",
    "print(state)\n",
    "\n"
   ]
  },
  {
   "cell_type": "markdown",
   "metadata": {
    "id": "l6OfhyaP-eJS"
   },
   "source": [
    "## Model"
   ]
  },
  {
   "cell_type": "code",
   "execution_count": null,
   "metadata": {
    "id": "7gjXRYvsrRl0"
   },
   "outputs": [],
   "source": [
    "class Model:\n",
    "  '''\n",
    "  Defines the Autoregressive flows model used.\n",
    "  Each RNN cell (all with same parameters) gives an output (input of the next cell)\n",
    "  which passes in a MLP (with shared weights again) to define the paramters of the RQS\n",
    "  '''\n",
    "  def __init__(self, key, Module, hidden_size, n_particles, mlp_layers1, p):\n",
    "    '''\n",
    "    key : random key to intialize the parameters\n",
    "    hidden_size : size of the hidden vectors & outputs\n",
    "    n_particles : number of outputs / variables = number of particles\n",
    "    mlp_layers : layers of the MLP block (last layer MUST be 3*nbins+1)\n",
    "    p : distribution to learn (must have a log_prob) \n",
    "    '''\n",
    "    assert mlp_layers1[-1] % 3 == 1\n",
    "\n",
    "    self.o0 = np.zeros(shape=(1,hidden_size) )\n",
    "    key, _ = rnd.split(key, 2)\n",
    "\n",
    "    self.NN = hk.without_apply_rng(hk.transform(lambda o0 : module_fn(\n",
    "        Module = Module,\n",
    "        hidden_size = hidden_size, \n",
    "        number_layers = n_particles, \n",
    "        mlp_layers1 = mlp_layers1, \n",
    "        inputs = o0\n",
    "    ) ))\n",
    "    \n",
    "    self.params = self.NN.init(rng=key, o0=self.o0)\n",
    "    key, _ = rnd.split(key, 2)\n",
    "    self.p = p\n",
    "    self.n_particles = n_particles\n",
    "\n",
    "  def q_theta(self, params):\n",
    "    '''\n",
    "    Constructs the distribution fot he given parameters\n",
    "    \n",
    "    Returns : probability distribution q_theta\n",
    "    '''\n",
    "    g1, g2, _ = self.NN.apply( params, o0=self.o0 ) #shape (n_particles,1,mlp[-1])\n",
    "\n",
    "    # Chain([f,g]) -> f(g(x))\n",
    "    \n",
    "    bij = distrax.Chain([ \n",
    "                         distrax.ScalarAffine( shift = g2[:,0,0], scale=g2[:,0,1] ),\n",
    "                         distrax.Inverse( distrax.Tanh() ), \n",
    "                         distrax.RationalQuadraticSpline(g1[:,0,:], -1.0, 1.0), \n",
    "                         distrax.Tanh(),\n",
    "                         #distrax.ScalarAffine( shift = g2[:,0,0], scale=g2[:,0,1] )\n",
    "                       ])\n",
    "\n",
    "    q = distrax.Transformed( distrax.MultivariateNormalDiag( loc=jnp.zeros(self.n_particles), scale_diag=jnp.ones(self.n_particles) ), \n",
    "                            distrax.Block(bij, ndims=1) \n",
    "                            )\n",
    "    return q\n",
    "\n",
    "  #@partial(jit, static_argnums = 0)\n",
    "  def pseudo_loss(self, params, data):\n",
    "    '''\n",
    "    Constructs the pseudo loss which needs to be differentiated for the gradient\n",
    "    params : parameters of the distribution\n",
    "    data : samples from q_theta to compute the expectation value (NS, n_particles)\n",
    "\n",
    "    Returns : pseudo loss scalar\n",
    "    '''\n",
    "    logq = vmap( self.log_q, (None,0), 0 )(params, data)\n",
    "\n",
    "    logp = self.p.log_prob(data)\n",
    "\n",
    "    return jnp.mean( logq * (0.5*logq - logp), axis=0 )\n",
    "\n",
    "  @partial(jit, static_argnums = 0)\n",
    "  def log_q(self, params, x):\n",
    "    '''\n",
    "    Computes the log probability of a single sample\n",
    "    params : parameters of the distribution\n",
    "    x : single sample (n_particles,)\n",
    "\n",
    "    Returns : log_q(x) ()\n",
    "    '''\n",
    "    q = self.q_theta(params)\n",
    "\n",
    "    logq = q.log_prob(x)\n",
    "\n",
    "    return logq\n",
    "\n",
    "  def loss_and_grad(self, key, params, Ns=1000):\n",
    "    '''\n",
    "    Computes the loss and its gradient\n",
    "    key : random key to sample\n",
    "    params : parameters of the distribution q_theta\n",
    "    Ns : number of samples\n",
    "\n",
    "    Returns : loss () and gradient of the loss (like params)\n",
    "    '''\n",
    "    # Construct the parametrized distribution\n",
    "    q = self.q_theta(params=params)\n",
    "\n",
    "    # sample from q\n",
    "    data = q._sample_n(key, Ns) # shape (Ns,n_particles)\n",
    "    key, _ = rnd.split(key, 2)\n",
    "\n",
    "    # get the values to average\n",
    "    logq = vmap( self.log_q, (None,0), 0 )(params, data) # shape (Ns,)\n",
    "    logp = self.p.log_prob(data)\n",
    "\n",
    "    grad_L = grad(self.pseudo_loss, 0)(params, data)\n",
    "\n",
    "\n",
    "    # compute L as expectation value over x~q\n",
    "    L = jnp.mean( logq - logp, axis=0 )\n",
    "    \n",
    "    return L, grad_L"
   ]
  },
  {
   "cell_type": "code",
   "execution_count": null,
   "metadata": {
    "colab": {
     "base_uri": "https://localhost:8080/",
     "height": 374
    },
    "executionInfo": {
     "elapsed": 779,
     "status": "ok",
     "timestamp": 1659096797093,
     "user": {
      "displayName": "Linda Mauron",
      "userId": "17004827077562637667"
     },
     "user_tz": -120
    },
    "id": "fABd972waj7b",
    "outputId": "d7f12684-87b0-42bc-ae3d-32ec0c8296c3"
   },
   "outputs": [
    {
     "name": "stdout",
     "output_type": "stream",
     "text": [
      "[[[-0.00338982 -0.00812534]]]\n"
     ]
    },
    {
     "data": {
      "text/plain": [
       "(array([  3.,  19.,  64., 145., 244., 229., 192.,  80.,  22.,   2.]),\n",
       " array([-0.03091924, -0.02553232, -0.02014539, -0.01475846, -0.00937154,\n",
       "        -0.00398461,  0.00140231,  0.00678924,  0.01217616,  0.01756309,\n",
       "         0.02295002]),\n",
       " <a list of 10 Patch objects>)"
      ]
     },
     "execution_count": 194,
     "metadata": {},
     "output_type": "execute_result"
    },
    {
     "data": {
      "image/png": "[encoded data removed]",
      "text/plain": [
       "<Figure size 432x288 with 1 Axes>"
      ]
     },
     "metadata": {},
     "output_type": "display_data"
    }
   ],
   "source": [
    "#test = hk.without_apply_rng(hk.transform(lambda h0,o0 : my_module(hidden_size=5, number_layers=9, h0=h0, o0=o0, mlp_layers=[5,2,7]) ))\n",
    "\n",
    "#params = test.init(rng=rng_key, h0=sample_x, o0=prev)\n",
    "#g = test.apply(params, h0=sample_x, o0=prev)\n",
    "\n",
    "################################################################################\n",
    "mu1=-1\n",
    "mu2=1\n",
    "sigma1=0.5\n",
    "sigma2=0.5\n",
    "prop = 0.3\n",
    "p = Distribution(mu1,mu2,sigma1,sigma2,prop=prop)\n",
    "\n",
    "nbins = 4\n",
    "key = rnd.PRNGKey(2)\n",
    "\n",
    "test_model = Model(key, Module=LSTM_Module, hidden_size=10, n_particles=1, mlp_layers1=[3,5,3,3*nbins+1], mlp_layers2=[3,3,2], p=p)\n",
    "\n",
    "#l, g = test_model.loss_and_grad(key, test_model.params, 10000)\n",
    "#key, _ = rnd.split(key, 2)\n",
    "\n",
    "plt.hist( test_model.q_theta(test_model.params)._sample_n(key, 1000).T )"
   ]
  },
  {
   "cell_type": "markdown",
   "metadata": {
    "id": "7khKDxbDiAqu"
   },
   "source": [
    "## 1D learning"
   ]
  },
  {
   "cell_type": "code",
   "execution_count": null,
   "metadata": {
    "id": "IhTwvQxMRbgZ"
   },
   "outputs": [],
   "source": [
    "################################################################################\n",
    "# Distribution\n",
    "mu1=-1\n",
    "mu2=1\n",
    "sigma1=0.5\n",
    "sigma2=0.5\n",
    "prop = 0.3\n",
    "p = Distribution(mu1,mu2,sigma1,sigma2,prop=prop)\n",
    "\n",
    "# Model\n",
    "nbins = 3\n",
    "key = rnd.PRNGKey(2)\n",
    "\n",
    "model = Model(key, hidden_size=10, number_layers=1, mlp_layers=[3,5,3,3*nbins+1], p=p)\n",
    "key, _ = rnd.split(key, 2)\n",
    "\n",
    "\n",
    "# Learning\n",
    "nsteps = 3000\n",
    "lr = 1e-3\n",
    "Ns = 10000\n",
    "tx = optax.sgd(learning_rate=lr)\n",
    "opt_state = tx.init(model.params)\n",
    "\n",
    "\n",
    "L = np.zeros(nsteps)\n",
    "for i in tqdm(range(nsteps)):\n",
    "  L[i], g = model.loss_and_grad(key, model.params, Ns)\n",
    "  key, _ = rnd.split(key, 2)\n",
    "\n",
    "\n",
    "  if jnp.abs(L[i]) == np.infty or jnp.isnan(L[i]):\n",
    "    print(g)\n",
    "    break\n",
    "\n",
    "  updates, opt_state = tx.update(g, opt_state)\n",
    "  model.params = optax.apply_updates(model.params, updates)\n",
    "\n",
    "\n",
    "  if i % 200 == 0:\n",
    "    print(i, 'Loss = ', L[i])\n",
    "\n",
    "  if i>0 and i%500==0 :\n",
    "    plt.figure()\n",
    "    plt.plot(range(i-500,i), L[i-500:i])\n",
    "    plt.show()\n"
   ]
  },
  {
   "cell_type": "code",
   "execution_count": null,
   "metadata": {
    "colab": {
     "base_uri": "https://localhost:8080/"
    },
    "executionInfo": {
     "elapsed": 1457,
     "status": "ok",
     "timestamp": 1658913543600,
     "user": {
      "displayName": "Linda Mauron",
      "userId": "17004827077562637667"
     },
     "user_tz": -120
    },
    "id": "px3iy5bza-av",
    "outputId": "61167c02-4a54-4cf1-be18-df914f3c80a2"
   },
   "outputs": [
    {
     "data": {
      "image/png": "[encoded data removed]",
      "text/plain": [
       "<Figure size 1152x288 with 3 Axes>"
      ]
     },
     "metadata": {},
     "output_type": "display_data"
    }
   ],
   "source": [
    "plt.figure(figsize=(16,4))\n",
    "\n",
    "################################################################################\n",
    "plt.subplot(1,3,1)\n",
    "plt.title('Evolution of the loss')\n",
    "plt.plot(L)\n",
    "plt.xlabel('Iteration')\n",
    "plt.ylabel('Loss')\n",
    "\n",
    "\n",
    "\n",
    "################################################################################\n",
    "q = model.q_theta(params=model.params)    \n",
    "x, logq = q._sample_n_and_log_prob(key, 5000)\n",
    "key, _ = rnd.split(key, 2)\n",
    "probs_p = jnp.exp( p.log_p(x) )\n",
    "probs_q = jnp.exp( logq )\n",
    "\n",
    "\n",
    "plt.subplot(1,3,2)\n",
    "plt.title('Sampling q_θ')\n",
    "hst = plt.hist(x.T, label='q_θ', zorder=0, bins=15)\n",
    "\n",
    "qmax = jnp.max(hst[0])\n",
    "C = qmax/jnp.max(probs_p)\n",
    "\n",
    "plt.scatter(x, C*probs_p ,label='p', color='C1', zorder=1, s=0.5)\n",
    "plt.legend()\n",
    "\n",
    "################################################################################\n",
    "A = jnp.max(probs_p)/np.exp( jnp.max(logq) )\n",
    "\n",
    "\n",
    "plt.subplot(1,3,3)\n",
    "plt.title('Probability')\n",
    "plt.scatter(x, A*probs_q , label='q_θ', s=0.5)\n",
    "plt.scatter(x, probs_p ,label='p', s=0.5)\n",
    "plt.legend()\n",
    "\n",
    "#plt.savefig('NN_3bins.png', dpi=200, bbox_inches='tight')\n",
    "plt.show()"
   ]
  },
  {
   "cell_type": "code",
   "execution_count": null,
   "metadata": {
    "id": "aekaUFSFgOMk"
   },
   "outputs": [],
   "source": []
  },
  {
   "cell_type": "markdown",
   "metadata": {
    "id": "fFGrjvuVsKtp"
   },
   "source": [
    "### Uncorrelated"
   ]
  },
  {
   "cell_type": "code",
   "execution_count": null,
   "metadata": {
    "id": "8atoglHpSflA"
   },
   "outputs": [],
   "source": [
    "class UncorrelatedBiDimensionalDistribution:\n",
    "  '''\n",
    "  Creates a distribution which is an addition of two gaussians.\n",
    "  The proportionality between the two is given by prop. \n",
    "  '''\n",
    "\n",
    "  def __init__(self,mus,sigmas,coeffs):\n",
    "    assert len(mus) == len(sigmas) & len(mus) == len(coeffs)\n",
    "    self.mus = mus\n",
    "    self.sigmas = sigmas\n",
    "\n",
    "    self.coeffs=coeffs\n",
    "\n",
    "  @partial(jit, static_argnums=0)\n",
    "  def log_prob(self,x):\n",
    "    '''\n",
    "    unnormalized log probability of a sample\n",
    "    does not need to be a nomralized probability\n",
    "    x : samples (Ns, dimension=len(mus))\n",
    "\n",
    "    Returns : log_p of the samples (Ns,)\n",
    "    '''\n",
    "    p = 0\n",
    "    for i in range(len(self.mus)):\n",
    "      p += self.coeffs[i]*jnp.exp(-(x-self.mus[i])**2/2/self.sigmas[i]) / self.sigmas[i]\n",
    "    \n",
    "    lp = jnp.sum( jnp.log( p ), axis=-1 )\n",
    "    return lp\n",
    "\n"
   ]
  },
  {
   "cell_type": "code",
   "execution_count": null,
   "metadata": {
    "colab": {
     "base_uri": "https://localhost:8080/",
     "height": 300
    },
    "executionInfo": {
     "elapsed": 2101,
     "status": "ok",
     "timestamp": 1658905987416,
     "user": {
      "displayName": "Linda Mauron",
      "userId": "17004827077562637667"
     },
     "user_tz": -120
    },
    "id": "LiiXXoP1Y1y_",
    "outputId": "0968d0d6-f8b5-44db-8284-a2c10a645a10"
   },
   "outputs": [
    {
     "name": "stdout",
     "output_type": "stream",
     "text": [
      "()\n"
     ]
    },
    {
     "data": {
      "image/png": "[encoded data removed]",
      "text/plain": [
       "<Figure size 432x288 with 2 Axes>"
      ]
     },
     "metadata": {},
     "output_type": "display_data"
    }
   ],
   "source": [
    "mus = np.array([[1,1], [1,-1], [-1,1], [-1,-1]])\n",
    "sigmas = np.array([0.3,1,0.5,0.5])\n",
    "coeffs = np.array([0.1, 0.4, 0.3, 0.2])\n",
    "distr = UncorrelatedBiDimensionalDistribution(mus, sigmas, coeffs)\n",
    "\n",
    "\n",
    "\n",
    "# Verify gaussian shape\n",
    "x = np.linspace(-5, 5, 101)\n",
    "\n",
    "\n",
    "\n",
    "p = np.zeros( (101,101) )\n",
    "for k in range(101):\n",
    "    for j in range(101):\n",
    "        p[k,j] = distr.log_p( np.array([x[k],x[j]]) )\n",
    "\n",
    "\n",
    "fig = plt.figure()\n",
    "ax = fig.add_subplot(111)\n",
    "\n",
    "im = ax.contourf(x, x, p, levels=50)\n",
    "ax.contour(x, x, p, levels=50, colors='black', linewidths=.5)\n",
    "\n",
    "#im = ax.scatter(phi1, phi2,c=p)\n",
    "cbar = plt.colorbar(im)\n",
    "cbar.set_label(r'$\\log \\tilde{P}(\\phi_1, \\phi_2)$')\n",
    "ax.set_xlabel('$\\phi_1$')\n",
    "ax.set_ylabel('$\\phi_2$')\n",
    "plt.show()\n",
    "\n",
    "\n"
   ]
  },
  {
   "cell_type": "code",
   "execution_count": null,
   "metadata": {
    "colab": {
     "base_uri": "https://localhost:8080/"
    },
    "executionInfo": {
     "elapsed": 6625,
     "status": "ok",
     "timestamp": 1658913561960,
     "user": {
      "displayName": "Linda Mauron",
      "userId": "17004827077562637667"
     },
     "user_tz": -120
    },
    "id": "Af-m01pcZg9T",
    "outputId": "936eeb97-a2dd-40bd-c3ab-51a1c6a89ecc"
   },
   "outputs": [
    {
     "name": "stdout",
     "output_type": "stream",
     "text": [
      "(10000,)\n"
     ]
    }
   ],
   "source": [
    "\n",
    "nbins = 4\n",
    "key = rnd.PRNGKey(2)\n",
    "\n",
    "test_model = Model(key, hidden_size=10, number_layers=2, mlp_layers=[3,5,3,3*nbins+1], p=distr)\n",
    "\n",
    "l, g = test_model.loss_and_grad(key, test_model.params, 10000)\n",
    "key, _ = rnd.split(key, 2)\n"
   ]
  },
  {
   "cell_type": "markdown",
   "metadata": {
    "id": "KMCgrequ9ccj"
   },
   "source": [
    "### Correlated"
   ]
  },
  {
   "cell_type": "code",
   "execution_count": null,
   "metadata": {
    "id": "a2drbiKQ9bpB"
   },
   "outputs": [],
   "source": [
    "class CorrelatedBiDimensionalDistribution:\n",
    "  '''\n",
    "  Creates a distribution which is an addition of two gaussians.\n",
    "  The proportionality between the two is given by prop. \n",
    "  '''\n",
    "\n",
    "  def __init__(self,mus,Sigmas,coeffs):\n",
    "    self.mus = mus\n",
    "\n",
    "    # inverse of covariance matrix\n",
    "    self.C = []\n",
    "    self.norms = []\n",
    "    for i in range(len(mus)):\n",
    "      self.C.append( np.linalg.inv(Sigmas[i]) )\n",
    "      self.norms.append( np.linalg.norm(self.C[i]) )\n",
    "\n",
    "    self.coeffs=coeffs\n",
    "\n",
    "  @partial(jit, static_argnums=0)\n",
    "  def log_prob(self,data):\n",
    "    '''\n",
    "    unnormalized log probability of a sample\n",
    "    does not need to be a nomralized probability\n",
    "    data : samples (Ns, dimension=len(mus))\n",
    "\n",
    "    Returns : log_p of the samples (Ns,)\n",
    "    '''\n",
    "    Ns = data.shape[0]\n",
    "\n",
    "    p = np.zeros( (Ns,) )\n",
    "    for i in range(len(self.mus)):\n",
    "\n",
    "      arg = jnp.einsum('...j,jk,...k', (data-self.mus[i]), self.C[i], (data-self.mus[i]) )\n",
    "      #print( (self.coeffs[i]*np.exp(-arg/2) /np.sqrt(self.norms[i])).shape )\n",
    "      p += self.coeffs[i]*jnp.exp(-arg/2) /jnp.sqrt(self.norms[i])\n",
    "    \n",
    "    lp = jnp.log( p )\n",
    "    return lp\n",
    "\n"
   ]
  },
  {
   "cell_type": "code",
   "execution_count": null,
   "metadata": {
    "colab": {
     "base_uri": "https://localhost:8080/"
    },
    "executionInfo": {
     "elapsed": 202,
     "status": "ok",
     "timestamp": 1659018989808,
     "user": {
      "displayName": "Linda Mauron",
      "userId": "17004827077562637667"
     },
     "user_tz": -120
    },
    "id": "TzUHf9U6FXpE",
    "outputId": "965b88ee-57ba-4a37-9bbf-7a707cb15240"
   },
   "outputs": [
    {
     "data": {
      "text/plain": [
       "array([2.8, 0.2])"
      ]
     },
     "execution_count": 234,
     "metadata": {},
     "output_type": "execute_result"
    }
   ],
   "source": [
    "np.linalg.eigvals( np.array([[2,-1.2],[-1.2,1]]) )"
   ]
  },
  {
   "cell_type": "code",
   "execution_count": null,
   "metadata": {
    "colab": {
     "base_uri": "https://localhost:8080/",
     "height": 287
    },
    "executionInfo": {
     "elapsed": 12591,
     "status": "ok",
     "timestamp": 1659527023487,
     "user": {
      "displayName": "Linda Mauron",
      "userId": "17004827077562637667"
     },
     "user_tz": -120
    },
    "id": "Ac-t-_3R_lez",
    "outputId": "d8fd4c01-5c95-4434-c679-e4cb076285f7"
   },
   "outputs": [
    {
     "data": {
      "image/png": "[encoded data removed]",
      "text/plain": [
       "<Figure size 432x288 with 2 Axes>"
      ]
     },
     "metadata": {},
     "output_type": "display_data"
    }
   ],
   "source": [
    "#mus = [np.array([-1,-1]).T, np.array([1,1]).T]\n",
    "#sigmas = [np.array([[0.5,0.15],[0.3,0.25]]), np.array([[0.5,0.3],[0.15,0.25]])]\n",
    "#coeffs = np.array([0.1, 0.3])\n",
    "\n",
    "mus = [np.array([-1,-1]).T, \n",
    "       np.array([-1,1]).T, \n",
    "       np.array([1,1]).T, \n",
    "       np.array([1,-1]).T\n",
    "       ]\n",
    "sigmas = [np.array([[0.5,0.3],[0.3,0.25]]), \n",
    "          np.array([[0.5,0.3],[0.3,0.25]]), \n",
    "          np.array([[0.5,0.3],[0.3,0.25]]), \n",
    "          np.array([[0.5,0.3],[0.3,0.25]])\n",
    "          ]\n",
    "coeffs = [0.05, 0.4, 0.4, 0.15]\n",
    "distr = CorrelatedBiDimensionalDistribution(mus, sigmas, coeffs)\n",
    "\n",
    "\n",
    "\n",
    "# Verify gaussian shape\n",
    "x = np.linspace(-5, 5, 101)\n",
    "\n",
    "\n",
    "p = np.zeros( (101,101) )\n",
    "for k in range(101):\n",
    "    for j in range(101):\n",
    "        p[k,j] = distr.log_prob( np.array([[x[k],x[j]]]) )\n",
    "\n",
    "\n",
    "fig = plt.figure()\n",
    "ax = fig.add_subplot(111)\n",
    "\n",
    "im = ax.contourf(x, x, p, levels=50)\n",
    "ax.contour(x, x, p, levels=50, colors='black', linewidths=.5)\n",
    "\n",
    "\n",
    "cbar = plt.colorbar(im)\n",
    "cbar.set_label(r'$\\log \\tilde{P}(\\phi_1, \\phi_2)$')\n",
    "ax.set_xlabel('$\\phi_1$')\n",
    "ax.set_ylabel('$\\phi_2$')\n",
    "plt.show()\n",
    "\n",
    "\n"
   ]
  },
  {
   "cell_type": "code",
   "execution_count": null,
   "metadata": {
    "id": "wLIkvWzvOqvl"
   },
   "outputs": [],
   "source": [
    "mus = [np.tile([-1,-1], (10000,1)), np.tile([1,1], (10000,1))]\n",
    "\n",
    "sigmas = [np.array([[0.5,0.15],[0.3,0.25]]), np.array([[0.5,0.3],[0.15,0.25]])]\n",
    "coeffs = [0.1, 0.3]\n",
    "distr = CorrelatedBiDimensionalDistribution(mus, sigmas, coeffs)\n",
    "\n",
    "\n",
    "nbins = 4\n",
    "key = rnd.PRNGKey(2)\n",
    "\n",
    "test_model = Model(key, hidden_size=10, number_layers=2, mlp_layers=[3,5,3,3*nbins+1], p=distr)\n",
    "\n",
    "l, g = test_model.loss_and_grad(key, test_model.params, 10000)\n",
    "key, _ = rnd.split(key, 2)\n"
   ]
  },
  {
   "cell_type": "markdown",
   "metadata": {
    "id": "I1waA9lYXEf3"
   },
   "source": [
    "### Ising"
   ]
  },
  {
   "cell_type": "code",
   "execution_count": 4,
   "metadata": {
    "executionInfo": {
     "elapsed": 29,
     "status": "ok",
     "timestamp": 1659706576646,
     "user": {
      "displayName": "Linda Mauron",
      "userId": "17004827077562637667"
     },
     "user_tz": -120
    },
    "id": "j1wDkaFSmXlw"
   },
   "outputs": [],
   "source": [
    "def generate_H(N, beta, h, dim=1):\n",
    "  '''\n",
    "  Generates the external field matrix H\n",
    "  \n",
    "  N : number of particles\n",
    "  beta : inverse temperature of the system\n",
    "  h : amplitude of the field\n",
    "  dim : numer of dimensions (default 1)\n",
    "\n",
    "  returns : H matrix (N,)\n",
    "  '''\n",
    "  assert dim==1 or dim==2 or dim==3\n",
    "\n",
    "  return beta*h*np.ones( N**dim )\n",
    "\n",
    "def generate_NN(N, beta, jnn, dim=1, pbc=True):\n",
    "  '''\n",
    "  Generates the interaction matrices (mulriplied by beta) for the second neighbours model\n",
    "\n",
    "  N : number of particles\n",
    "  beta : inverse temperature of the system\n",
    "  jnn : amplitude of the first neighbour interaction\n",
    "  dim : numer of dimensions (default 1)\n",
    "  pbc : if the system presents periodic boundary conditions (default True)\n",
    "\n",
    "  returns : modified interaction matrix K (N,N) and normal one J (N,N)\n",
    "  '''\n",
    "  assert dim==1 or dim==2 or dim==3\n",
    "\n",
    "  # Nearest neighbours matrix\n",
    "  NN = np.diag(np.ones(N-1), 1) + np.diag(np.ones(N-1), -1)\n",
    "\n",
    "  # Boundary conditions\n",
    "  if pbc : \n",
    "    NN[0,N-1] = 1\n",
    "    NN[N-1,0] = 1\n",
    "  NN *= jnn\n",
    "\n",
    "  # Construct nearest neighbour for each lattice\n",
    "  if dim == 1 : \n",
    "    '''\n",
    "    Nearest neighbours in (+/-a)\n",
    "    '''\n",
    "    J = NN\n",
    "  if dim == 2:\n",
    "    '''\n",
    "    Nearest neighbours in (+/-a,0), (0,+/-a)\n",
    "    '''\n",
    "    I = np.diag( np.ones(N) )\n",
    "    J = np.kron(I,NN) + np.kron(NN,I)\n",
    "  if dim == 3:\n",
    "    '''\n",
    "    Nearest neighbours in (+/- a,0,0), (0,+/- a,0), (0,0,+/- a)\n",
    "    '''\n",
    "    I = np.diag( np.ones(N) )\n",
    "    J = np.kron(np.kron(I, NN), I) + np.kron(np.kron(NN, I), I) + np.kron(I, np.kron(I,NN))\n",
    "\n",
    "  # Construct J and K\n",
    "  J = beta*J\n",
    "  K = J + 2.5*dim*beta*np.abs(jnn)*np.diag(np.ones(N**dim))\n",
    "  return K,J\n",
    "\n",
    "def generate_NNN(N, beta, jnn, jnnn, dim=1, pbc=True):\n",
    "  '''\n",
    "  Generates the interaction matrices (mulriplied by beta) for the second neighbours model\n",
    "\n",
    "  N : number of particles\n",
    "  beta : inverse temperature of the system\n",
    "  jnn : amplitude of the first neighbour interaction\n",
    "  jnnn : amplitude of the second neighbour interaction\n",
    "  dim : numer of dimensions (default 1)\n",
    "  pbc : if the system presents periodic boundary conditions (default True)\n",
    "\n",
    "  returns : modified interaction matrix K (N,N) & standard one J (N,N)\n",
    "  '''\n",
    "  assert dim==1 or dim==2 or dim==3\n",
    "\n",
    "  # Nearest neighbours\n",
    "  T = np.diag(np.ones(N-1), 1) + np.diag(np.ones(N-1), -1)\n",
    "\n",
    "  # Boundary conditions\n",
    "  if pbc : \n",
    "    T[0,N-1] = 1\n",
    "    T[N-1,0] = 1\n",
    "\n",
    "  if dim == 1 : \n",
    "    '''\n",
    "    Nearest neighbours in (+/-a)\n",
    "    Second neighbours in (+/-2a)\n",
    "    '''\n",
    "    NNN = np.diag(np.ones(N-2), 2) + np.diag(np.ones(N-2), -2)\n",
    "    if pbc : \n",
    "        NNN[0,N-2] = 1\n",
    "        NNN[N-2,0] = 1\n",
    "    J = jnn*T + jnnn*NNN\n",
    "  if dim == 2:\n",
    "    '''\n",
    "    Nearest neighbours in (+/-a,0), (0,+/-a)\n",
    "    Second neighbours in (+/-a,+/-a)\n",
    "    '''\n",
    "    I = np.diag( np.ones(N) )\n",
    "    J = jnn*np.kron(I,T) + jnn*np.kron(T,I) + jnnn*np.kron(T,T)\n",
    "  if dim == 3:\n",
    "    '''\n",
    "    Nearest neighbours in (+/- a,0,0), (0,+/- a,0), (0,0,+/- a)\n",
    "    Second neighbours in (+/-a,+/-a,0), (+/-a,0,+/-a), (0,+/-a,+/-a)\n",
    "    '''\n",
    "    I = np.diag( np.ones(N) )\n",
    "    J = jnn*( np.kron(np.kron(I, T), I) + np.kron(np.kron(T, I), I) + np.kron(I, np.kron(I,T)) )\n",
    "    J += jnnn*( np.kron(np.kron(T, I), T) + np.kron(np.kron(I, T), T) + np.kron(T, np.kron(T,I)) )\n",
    "\n",
    "  # Construct J and K\n",
    "  if jnnn ==0:\n",
    "    diag = 2.5*dim*beta*np.abs(jnn)\n",
    "  else : \n",
    "    diag = 6*dim*beta*max(np.abs(jnn),np.abs(jnnn))\n",
    "\n",
    "  J = beta*J\n",
    "  K = J +diag*np.diag(np.ones(N**dim))\n",
    "  return K,J"
   ]
  },
  {
   "cell_type": "code",
   "execution_count": 5,
   "metadata": {
    "executionInfo": {
     "elapsed": 28,
     "status": "ok",
     "timestamp": 1659706576647,
     "user": {
      "displayName": "Linda Mauron",
      "userId": "17004827077562637667"
     },
     "user_tz": -120
    },
    "id": "or37AQ8UXJLV"
   },
   "outputs": [],
   "source": [
    "class IsingDistribution:\n",
    "  '''\n",
    "  Probability distribution of the ising model for a given interaction matrix and external field\n",
    "  H = - 0.5 * sum_ij s_i J_ij s_j - sum_i h_i s_i\n",
    "\n",
    "  hint : j=1 is ferromagnetic\n",
    "  '''\n",
    "  def __init__(self, N, J, K, H, beta=None):\n",
    "    '''\n",
    "    Initialises the model for the given interactions and fields. \n",
    "\n",
    "    N : number of particles (int)\n",
    "    J : NxN array defining the interactions (multiplied by beta already)\n",
    "    K : J with addititonal diagonal terms to be positive definite\n",
    "    H : external field (multiplied by beta)\n",
    "    '''\n",
    "    # Verifying the shapes of the matrices\n",
    "    assert J.shape[0] == N and J.shape[1] == N and J.shape == K.shape\n",
    "\n",
    "    # Verifying that K is indeed positive definite\n",
    "    assert (np.linalg.eigvalsh(K) > 0).all()\n",
    "\n",
    "    self.N = N\n",
    "    self.J = J\n",
    "    self.K = K\n",
    "    self.H = H\n",
    "    self.beta = beta\n",
    "\n",
    "  def log_prob(self,phis):\n",
    "    '''\n",
    "    Log of the unnormalized probability distribution in continuous space\n",
    "    phi : ambiant field for which one computes the prob, shape (Ns,n_part)\n",
    "\n",
    "    return : log(p(phi)), shape (Ns,)\n",
    "    '''\n",
    "    # Exponential part\n",
    "    p = -0.5*jnp.einsum('...j,jk,...k', phis, self.K, phis )\n",
    "    \n",
    "    # Product of i part (separating the log for stability)\n",
    "    x = jnp.einsum('jk,...k', self.K, phis ) + self.H\n",
    "    p += jnp.sum( jnp.abs(x) + jnp.log1p(jnp.exp(-2*jnp.abs(x))) , axis=-1 )\n",
    "      \n",
    "    return p\n",
    "\n",
    "  def discrete_log_prob(self,spins):\n",
    "    '''\n",
    "    Probability in the spin space\n",
    "    spins : spin samples (Ns,n_part)\n",
    "\n",
    "    return : log(p(s)) = -beta*E(s), shape (SHAPE)\n",
    "    '''\n",
    "    return 0.5*jnp.einsum('ji,ik,jk->j', spins, self.J, spins) + jnp.einsum('k,jk->j', self.H,spins)\n",
    "    return 0.5*spins.T @ self.J @ spins + self.H@spins\n",
    "\n",
    "  def componentwise_magn(self,data): #OK\n",
    "    '''\n",
    "    Coputes the magnetization of each component for a bunch of data\n",
    "    data : data sampled over whcich to average (Ns,N)\n",
    "\n",
    "    returns : magnetization (N,)\n",
    "    '''\n",
    "    g = jnp.tanh( jnp.einsum('jk,...k', self.K, data ) + self.H )\n",
    "\n",
    "    return jnp.mean(g, axis=0)\n",
    "\n",
    "  def mean_magn(self,data): #OK\n",
    "    '''\n",
    "    Computes the mean magnetization over all components\n",
    "    data : data sampled over whcich to average (Ns,N)\n",
    "\n",
    "    returns : mean magnetization ()\n",
    "    '''\n",
    "    g = jnp.tanh( jnp.einsum('jk,...k', self.K, data ) + self.H ).mean(axis=-1)\n",
    "\n",
    "    return jnp.mean(g, axis=0)\n",
    "\n",
    "\n",
    "  def correlations(self,data, i=0):\n",
    "    '''\n",
    "    Computes the correlations between the spin i and the other spins (also itself)\n",
    "    data : data sampled over whcich to average (Ns,N)\n",
    "    i : component w.r.t. which to compute the correlations\n",
    "\n",
    "    returns : array of correlations (N,)\n",
    "    '''\n",
    "    m = jnp.tanh( jnp.einsum('jk,nk->nj', self.K, data ) + self.H )\n",
    "\n",
    "    g = m[i] * m # IS THERE A - MISSING ???\n",
    "\n",
    "    g = g.at[:,i].set(1.0)\n",
    "\n",
    "    return jnp.mean(g, axis=0)\n",
    "\n",
    "  def magnetic_suscpetibility(self,data):\n",
    "    '''\n",
    "    Computes the magnetic susceptibility of the lattice\n",
    "    data : data sampled over whcich to average (Ns,N)\n",
    "\n",
    "    returns : magnetic susceptibility ()\n",
    "    '''\n",
    "    m = jnp.tanh( jnp.einsum('jk,nk->nj', self.K, data ) + self.H )\n",
    "\n",
    "    energys = self.beta**2/self.N**2 * jnp.sum( jnp.einsum('ji,jk->jik', m, m), axis=(-1,-2) )\n",
    "    return jnp.mean(energys, axis=0)\n",
    "\n",
    "  def energy(self,data):\n",
    "    '''\n",
    "    Computes the energy of the lattice\n",
    "    data : data sampled over whcich to average (Ns,N)\n",
    "\n",
    "    returns : energy ()\n",
    "    '''\n",
    "    x = jnp.einsum('jk,nk->nj', self.K, data ) + self.H\n",
    "    \n",
    "\n",
    "    E_loc = (0.5*jnp.einsum('nj,jk,nk->n', data, self.K, data ) - jnp.einsum('ni,ni->n', x, jnp.tanh(x)) )/self.beta\n",
    "\n",
    "    return jnp.mean(E_loc, axis=0) + jnp.einsum('ii', self.K)\n",
    "\n"
   ]
  },
  {
   "cell_type": "code",
   "execution_count": null,
   "metadata": {
    "id": "OCtm2kJ6XPd2"
   },
   "outputs": [],
   "source": []
  },
  {
   "cell_type": "markdown",
   "metadata": {
    "id": "j1IJLHRxsOXM"
   },
   "source": [
    "## 2D Learning"
   ]
  },
  {
   "cell_type": "code",
   "execution_count": null,
   "metadata": {
    "id": "FZhBR2jbWhH8"
   },
   "outputs": [],
   "source": [
    "################################################################################\n",
    "# Distribution\n",
    "'''\n",
    "mus=np.array([1, -1])\n",
    "sigmas = np.array([0.5, 0.5])\n",
    "coeffs = np.array([0.7, 0.3])\n",
    "p = UncorrelatedBiDimensionalDistribution(mus, sigmas, coeffs)\n",
    "n_particles = 1\n",
    "'''\n",
    "'''\n",
    "mus = np.array([[1,1], [1,-1], [-1,1], [-1,-1]])\n",
    "sigmas = np.array([0.3,1,0.5,0.5])\n",
    "coeffs = np.array([0.1, 0.4, 0.3, 0.2])\n",
    "p = UncorrelatedBiDimensionalDistribution(mus, sigmas, coeffs)\n",
    "n_particles = 2\n",
    "'''\n",
    "'''\n",
    "mus = [np.array([1,1])]\n",
    "sigmas = [np.array([[1,0.6],[0.6,0.5]])]\n",
    "#sigmas = [np.array([[1,0],[0,0.5]])]\n",
    "coeffs = [1]\n",
    "p = CorrelatedBiDimensionalDistribution(mus, sigmas, coeffs)\n",
    "n_particles = 2\n",
    "'''\n",
    "\n",
    "mus = [np.array([-1,-1]).T, \n",
    "       np.array([-1,1]).T, \n",
    "       np.array([1,1]).T, \n",
    "       np.array([1,-1]).T\n",
    "       ]\n",
    "sigmas = [np.array([[0.5,0.3],[0.3,0.25]]), \n",
    "          np.array([[0.5,0.3],[0.3,0.25]]), \n",
    "          np.array([[0.5,0.3],[0.3,0.25]]), \n",
    "          np.array([[0.5,0.3],[0.3,0.25]])\n",
    "          ]\n",
    "coeffs = [0.05, 0.4, 0.4, 0.15]\n",
    "p = CorrelatedBiDimensionalDistribution(mus, sigmas, coeffs)\n",
    "n_particles = 2\n",
    "\n",
    "\n",
    "\n",
    "\n",
    "# Model\n",
    "nbins = 3\n",
    "key = rnd.PRNGKey(12)\n",
    "\n",
    "\n",
    "model = Model(key, Module=LSTM_Module, hidden_size=10, n_particles=n_particles, mlp_layers1=[3,5,3*nbins+1], p=p)\n",
    "key, _ = rnd.split(key, 2)\n",
    "\n",
    "\n",
    "\n",
    "# Learning\n",
    "nsteps = 10000\n",
    "lr = 5e-3\n",
    "Ns = 20000\n",
    "tx = optax.sgd(learning_rate=lr)\n",
    "opt_state = tx.init(model.params)\n",
    "\n",
    "\n",
    "L = np.zeros(nsteps)\n",
    "means = []\n",
    "covs = []\n",
    "\n",
    "for i in tqdm(range(nsteps)):\n",
    "  L[i], g = model.loss_and_grad(key, model.params, Ns)\n",
    "  key, _ = rnd.split(key, 2)\n",
    "\n",
    "\n",
    "  if jnp.abs(L[i]) == np.infty or jnp.isnan(L[i]):\n",
    "    print(g)\n",
    "    break\n",
    "\n",
    "  updates, opt_state = tx.update(g, opt_state)\n",
    "  model.params = optax.apply_updates(model.params, updates)\n",
    "\n",
    "  # Keep track of evolution\n",
    "  if i % 200 == 0:\n",
    "    print(i, 'Loss = ', L[i])\n",
    "  \n",
    "  # See loss\n",
    "  if i>0 and i%500==0 :\n",
    "    plt.figure()\n",
    "    plt.plot(range(i-500, i), L[i-500:i])\n",
    "    plt.show()\n",
    "  \n",
    "  # See distribution\n",
    "  if (i+1)%500 == 0:\n",
    "    \n",
    "    size = 21\n",
    "    x = np.linspace(-3, 3, size)\n",
    "    probs_q = np.zeros( (size,size) )\n",
    "    for k in range(size):\n",
    "      for j in range(size):\n",
    "        probs_q[k,j] = model.log_prob( model.params, np.array([[x[k], x[j]]]) )\n",
    "\n",
    "    plt.contourf(x, x, np.exp(probs_q), levels=20)\n",
    "    plt.contour(x, x, np.exp(probs_q), colors='black', levels=20, linewidths=.5, linestyles='solid')\n",
    "    plt.show() \n",
    "    \n",
    "    #_, data = model.sample_and_log_q(key, model.params, Ns=10000)\n",
    "    #means.append( np.mean(data, axis=0) )\n",
    "    #covs.append( np.cov(data.T) )\n",
    "    #print(i, 'Distribution : ', means[-1], covs[-1])\n",
    "    "
   ]
  },
  {
   "cell_type": "code",
   "execution_count": null,
   "metadata": {
    "id": "yuwB7snqXSar"
   },
   "outputs": [],
   "source": [
    "arr_means = np.array(means)\n",
    "arr_covs = np.array(covs)\n",
    "\n",
    "\n",
    "plt.figure(figsize=(20,4))\n",
    "\n",
    "################################################################################\n",
    "plt.subplot(1,4,1)\n",
    "plt.title('Evolution of the loss')\n",
    "plt.plot(L[L!=0], label='L')\n",
    "#plt.hlines(y=-5.3288, xmin=0, xmax=i, color='k', linestyle='dashed')\n",
    "plt.xlabel('Iteration')\n",
    "plt.ylabel('Loss')\n",
    "plt.legend()\n",
    "\n",
    "\n",
    "\n",
    "################################################################################\n",
    "q = model.q_theta(params=model.params)    \n",
    "data = q._sample_n(key, 10000)\n",
    "key, _ = rnd.split(key, 2)\n",
    "\n",
    "size = 21\n",
    "H, yedges, xedges = np.histogram2d(data[:,0], \n",
    "                                   data[:,1], \n",
    "                                   bins=[np.linspace(-2,2,size),np.linspace(-2,2,size)]\n",
    "                                   )\n",
    "X, Y = np.meshgrid(xedges, yedges)\n",
    "\n",
    "plt.subplot(1,4,2)\n",
    "plt.title('Sampling q_θ')\n",
    "\n",
    "plt.pcolormesh(X, Y, H)\n",
    "\n",
    "plt.xlabel('$x_1$')\n",
    "plt.ylabel('$x_2$')\n",
    "\n",
    "\n",
    "################################################################################\n",
    "\n",
    "size = 21\n",
    "x = np.linspace(-2.5, 2.5, size)\n",
    "probs_p = np.zeros( (size,size) )\n",
    "probs_q = np.zeros( (size,size) )\n",
    "for k in range(size):\n",
    "    for j in range(size):\n",
    "        probs_p[k,j] = model.p.log_prob( np.array( [[x[k],x[j]]] ) )\n",
    "        probs_q[k,j] = model.log_prob( model.params, np.array([[x[k],x[j]]]) )\n",
    "\n",
    "\n",
    "\n",
    "plt.subplot(1,4,3)\n",
    "plt.title('p to learn')\n",
    "\n",
    "plt.contourf(x, x, np.exp(probs_p), levels=10)\n",
    "plt.contour(x, x, np.exp(probs_p), colors='black', levels=10, linewidths=.5, linestyles='solid')\n",
    "\n",
    "plt.xlabel('$x_1$')\n",
    "plt.ylabel('$x_2$')\n",
    "\n",
    "\n",
    "################################################################################\n",
    "\n",
    "plt.subplot(1,4,4)\n",
    "plt.title('q_θ learned')\n",
    "\n",
    "plt.contourf(x, x, np.exp(probs_q), levels=10)\n",
    "plt.contour(x, x, np.exp(probs_q), colors='black', levels=10, linewidths=.5, linestyles='solid')\n",
    "\n",
    "plt.xlabel('$x_1$')\n",
    "plt.ylabel('$x_2$')\n",
    "\n",
    "\n",
    "#plt.savefig(f'{Module}.png', dpi=200, bbox_inches='tight')\n",
    "\n",
    "################################################################################\n",
    "\n",
    "plt.show()\n"
   ]
  },
  {
   "cell_type": "markdown",
   "metadata": {
    "id": "QYzLxX4EWO52"
   },
   "source": [
    "# Real Recurrent model"
   ]
  },
  {
   "cell_type": "markdown",
   "metadata": {
    "id": "0BOSSnvBWSFQ"
   },
   "source": [
    "## Model"
   ]
  },
  {
   "cell_type": "code",
   "execution_count": null,
   "metadata": {
    "id": "k5jkCCEiWNSq"
   },
   "outputs": [],
   "source": [
    "##################################### LSTM #####################################\n",
    "class Recurrent_Module(hk.Module):\n",
    "  def __init__(self, hidden_size, number_layers, mlp_layers1, mlp_layers2, name='LSTM_module'):\n",
    "    '''\n",
    "    hidden_size : size of each input/output\n",
    "    number_layers : number of times the RNN is called (corresponds to the number of particles)\n",
    "    mlp_layers : the layers of the MLP\n",
    "    '''\n",
    "    super().__init__(name=name)\n",
    "    self.rnn = hk.LSTM(hidden_size=hidden_size) #shared weights\n",
    "\n",
    "    self.number_layers = number_layers\n",
    "    \n",
    "    self.mlp1 = hk.nets.MLP(\n",
    "        mlp_layers1,\n",
    "        activation = jax.nn.tanh, \n",
    "        w_init = hk.initializers.VarianceScaling(1.0, \"fan_in\",  \"truncated_normal\"), #hk.initializers.RandomNormal(1,0),\n",
    "        b_init = hk.initializers.Constant(0), \n",
    "        name = 'MLP1'\n",
    "        )\n",
    "    self.mlp2 = hk.nets.MLP(\n",
    "        mlp_layers2,\n",
    "        activation = jax.nn.tanh, \n",
    "        w_init = hk.initializers.VarianceScaling(1.0, \"fan_in\",  \"truncated_normal\"), #hk.initializers.RandomNormal(1,0),\n",
    "        b_init = hk.initializers.Constant(0), \n",
    "        name = 'MLP2'\n",
    "        )\n",
    "\n",
    "  def __call__(self,inputs, previous_state=None):\n",
    "    '''\n",
    "    Returns a list of outputs o in the RNN chain\n",
    "    inputs : intial entry of the RNN (o0), shape : (Ns, hidden_size)\n",
    "    previous_state : previous state of the netowrk [hidden: (hidden,Ns), cell: (hidden,Ns)]\n",
    "\n",
    "    return : outputs (number_layers, Ns, mlp_layers[-1]) & [hidden: (hidden,Ns), cell: (hidden,Ns)]\n",
    "    '''\n",
    "    # Prepare states\n",
    "    if previous_state is None:\n",
    "      previous_state = self.rnn.initial_state(inputs.shape[0])\n",
    "\n",
    "    o, previous_state = self.rnn(inputs, previous_state)\n",
    "\n",
    "    # return outputs and the final states (to go on if needed)\n",
    "    return self.mlp1(o), self.mlp2(o), previous_state\n",
    "\n",
    "    \n",
    "def recurrent_module_fn(Module, hidden_size, number_layers, mlp_layers1, mlp_layers2, inputs, previous_state):\n",
    "  '''\n",
    "  Forwards the RNN + MLP network\n",
    "\n",
    "  Module : module to use for the RNN (can be Vanilla_MLP_Module or LSTM_MLP_Module)\n",
    "  hidden_size : size of each input/output\n",
    "  number_layers : number of times the RNN is called (corresponds to the number of particles)\n",
    "  mlp_layers : the layers of the MLP\n",
    "  inputs : intial entry of the RNN (o0), shape : (Ns, hidden_size)\n",
    "  '''\n",
    "  module = Module(hidden_size, number_layers, mlp_layers1, mlp_layers2)\n",
    "  return module(inputs, previous_state)\n",
    "\n",
    "class Recurrent_Model:\n",
    "  '''\n",
    "  Defines the Autoregressive flows model used.\n",
    "  Each RNN cell (all with same parameters) gives an output (input of the next cell)\n",
    "  which passes in a MLP (with shared weights again) to define the paramters of the RQS\n",
    "  '''\n",
    "  def __init__(self, key, Module, hidden_size, n_particles, mlp_layers1, mlp_layers2, p):\n",
    "    '''\n",
    "    key : random key to intialize the parameters\n",
    "    hidden_size : size of the hidden vectors & outputs\n",
    "    n_particles : number of outputs / variables = number of particles\n",
    "    mlp_layers1 : layers of the MLP block for the spline (last layer MUST be 3*nbins+1)\n",
    "    mlp_layers2 : layers of the MLP block for the shift\n",
    "    p : distribution to learn (must have a log_prob) \n",
    "    '''\n",
    "    assert mlp_layers1[-1] % 3 == 1\n",
    "    assert mlp_layers2[-1] == 1\n",
    "\n",
    "    # The neural network (RNN -> MLP1,MLP2)\n",
    "    self.NN = hk.without_apply_rng(hk.transform(lambda inputs, previous_state : recurrent_module_fn(\n",
    "        Module = Module,\n",
    "        hidden_size = hidden_size, \n",
    "        number_layers = n_particles, \n",
    "        mlp_layers1 = mlp_layers1, \n",
    "        mlp_layers2 = mlp_layers2,\n",
    "        inputs = inputs, \n",
    "        previous_state = previous_state\n",
    "    ) ))\n",
    "    \n",
    "    # Initialize the corresponding parameters\n",
    "    self.params = self.NN.init(rng=key, inputs=np.zeros(shape=(1,1) ), previous_state=None)\n",
    "    key, _ = rnd.split(key, 2)\n",
    "\n",
    "    # Probability to learn\n",
    "    self.p = p\n",
    "\n",
    "    # Number of particles (components)\n",
    "    self.n_particles = n_particles\n",
    "\n",
    "\n",
    "  @partial(jit, static_argnums = (0,3))\n",
    "  def sample_and_log_q(self, key, params, Ns):\n",
    "    '''\n",
    "    Draws samples from the distribution defined by params\n",
    "\n",
    "    key : random key to sample\n",
    "    params : parameters of the distribution q_theta\n",
    "    Ns : number of samples\n",
    "\n",
    "    returns : log_probabilities of each sample chain (Ns,) & samples (Ns,n_particles)\n",
    "    '''\n",
    "    # To contain the important information\n",
    "    log_probs = jnp.zeros(shape=(Ns,))\n",
    "    phi = []\n",
    "\n",
    "    ## t = 0 (special since here we sample Ns times from the same spline)\n",
    "    o = np.zeros(shape=(1,Ns))\n",
    "    previous_state = None\n",
    "    g1, g2, previous_state = self.NN.apply( params, inputs=o.T, previous_state=previous_state ) #shapes (Ns,mlp[-1])\n",
    "    \n",
    "    # Distribution of phi0\n",
    "    bij = distrax.Chain([ \n",
    "                        distrax.ScalarAffine( shift = g2[:,0], scale=np.ones(shape=(Ns,)) ) ,\n",
    "                        distrax.Inverse( distrax.Tanh() ), \n",
    "                        distrax.RationalQuadraticSpline(g1, -1.0, 1.0),\n",
    "                        distrax.Tanh(),\n",
    "                      ])\n",
    "    \n",
    "    q = distrax.Transformed( distrax.Normal(np.zeros(Ns),np.ones(Ns)), \n",
    "                              bij\n",
    "                              )\n",
    "    \n",
    "    # sample, save and input for the next one \n",
    "    o, log_p = q._sample_n_and_log_prob(key, 1)\n",
    "    key, _ = rnd.split(key, 2)\n",
    "    log_probs += jnp.squeeze(log_p, axis=0)\n",
    "    phi.append( o )\n",
    "    \n",
    "\n",
    "    ## for t>0, we sample one time for each of the Ns distributions created (different splines)\n",
    "    for t in range(1,self.n_particles):\n",
    "      g1, g2, previous_state = self.NN.apply( params, inputs=o.T, previous_state=previous_state ) #shapes (Ns,mlp[-1])\n",
    "\n",
    "\n",
    "      # Chain([f,g]) -> f(g(x))\n",
    "      bij = distrax.Chain([ \n",
    "                          distrax.ScalarAffine( shift = g2, scale=np.ones(shape=(Ns,1,)) ) ,\n",
    "                          distrax.Inverse( distrax.Tanh() ), \n",
    "                          distrax.RationalQuadraticSpline(jnp.expand_dims(g1, axis=1), -1.0, 1.0), #expand_dims to have Ns different splines\n",
    "                          distrax.Tanh(),\n",
    "                        ])\n",
    "      \n",
    "\n",
    "      q = distrax.Transformed( distrax.Normal(loc=jnp.zeros((Ns,1)), scale=jnp.ones((Ns,1))), # to have Ns samples drawn independently\n",
    "                              bij\n",
    "                              )\n",
    "      \n",
    "      o, log_p = q._sample_n_and_log_prob(key, 1)\n",
    "      key, _ = rnd.split(key, 2)\n",
    "\n",
    "      # cancel the additional dim\n",
    "      o = jnp.squeeze(o, axis=-1)\n",
    "      log_probs += jnp.squeeze(log_p, axis=(0,-1))\n",
    "      phi.append( o )\n",
    "\n",
    "    # Transform to the shape we wished (Ns,n_parts)\n",
    "    data = jnp.squeeze( jnp.array(phi), axis=1).T\n",
    "\n",
    "\n",
    "    return log_probs, data\n",
    "\n",
    "\n",
    "  @partial(jit, static_argnums = (0,3))\n",
    "  def loss(self, key, params, Ns):\n",
    "    '''\n",
    "    Constructs the pseudo loss which needs to be differentiated for the gradient\n",
    "    params : parameters of the distribution\n",
    "    data : samples from q_theta to compute the expectation value (NS, n_particles)\n",
    "\n",
    "    Returns : loss () # & pseudo loss to differentiate ()\n",
    "    '''\n",
    "    logq, data = self.sample_and_log_q(key, params, Ns) #(Ns, n_particles) & (Ns,)\n",
    "\n",
    "\n",
    "    logp = self.p.log_prob(data) #(Ns,)\n",
    "    #l = jnp.mean( logq * (0.5*logq - logp), axis=0 )\n",
    "\n",
    "    return jnp.mean(logq-logp, axis=0)\n",
    "\n",
    "  @partial(jit, static_argnums = (0,3))\n",
    "  def loss_and_grad(self, key, params, Ns):\n",
    "    '''\n",
    "    Computes the loss and its gradient\n",
    "    key : random key to sample\n",
    "    params : parameters of the distribution q_theta\n",
    "    Ns : number of samples\n",
    "\n",
    "    Returns : loss () and gradient of the loss (params-like)\n",
    "    '''\n",
    "    value, grad_L = jax.value_and_grad(self.loss, argnums=1, has_aux=False)(key, params, Ns)\n",
    "\n",
    "\n",
    "    return value, grad_L\n",
    "    \n",
    "\n",
    "\n",
    "  @partial(jit, static_argnums=0)\n",
    "  def log_prob(self, params, x):\n",
    "    '''\n",
    "    x : (Ns, n_part)\n",
    "    return : lob_p (Ns,)\n",
    "    '''\n",
    "    if x.ndim == 1:\n",
    "      x = jnp.expand_dims(x, axis=0)\n",
    "      Ns = 1\n",
    "    else: \n",
    "      Ns = x.shape[0]\n",
    "    #assert x.ndim != 1\n",
    "    #Ns = x.shape[0]\n",
    "\n",
    "    ## t = 0 (special since here we sample Ns times from the same spline)\n",
    "    o = np.zeros(shape=(1,Ns))\n",
    "    previous_state = None\n",
    "    g1, g2, previous_state = self.NN.apply( params, inputs=o.T, previous_state=previous_state ) #shapes (1,mlp[-1])\n",
    "    bij = distrax.Chain([ \n",
    "                        distrax.ScalarAffine( shift = g2[:,0], scale=np.ones(shape=(1,)) ),\n",
    "                        distrax.Inverse( distrax.Tanh() ), \n",
    "                        distrax.RationalQuadraticSpline(g1, -1.0, 1.0), #expand nums to have Ns different splines\n",
    "                        distrax.Tanh(),\n",
    "                      ])\n",
    "    q = distrax.Transformed( distrax.Normal(np.zeros(Ns),np.ones(Ns)), \n",
    "                              bij \n",
    "                              )\n",
    "    \n",
    "    probs = jnp.squeeze( q.log_prob(x[...,0]), axis=0)\n",
    "\n",
    "    \n",
    "\n",
    "    ## for t>0, we sample one time for each of the Ns distributions created (different splines)\n",
    "    for t in range(1,self.n_particles): \n",
    "\n",
    "      g1, g2, previous_state = self.NN.apply( params, inputs=jnp.expand_dims(x[...,t-1].T, axis=1), previous_state=previous_state ) #shapes (Ns,mlp[-1])\n",
    "\n",
    "\n",
    "      # Chain([f,g]) -> f(g(x))\n",
    "      bij = distrax.Chain([ \n",
    "                          distrax.ScalarAffine( shift = g2, scale=np.ones(shape=(Ns,1,)) ),\n",
    "                          distrax.Inverse( distrax.Tanh() ), \n",
    "                          distrax.RationalQuadraticSpline(jnp.expand_dims(g1, axis=1), -1.0, 1.0), #expand nums to have Ns different splines\n",
    "                          distrax.Tanh(),\n",
    "                        ])\n",
    "      q = distrax.Transformed( distrax.Normal(loc=jnp.zeros((Ns,1)), scale=jnp.ones((Ns,1))), # to have Ns samples drawn independently\n",
    "                              bij \n",
    "                              )\n",
    "      \n",
    "      probs += jnp.squeeze( q.log_prob(x[...,t]), axis=(0,-1))\n",
    "\n",
    "\n",
    "    return probs"
   ]
  },
  {
   "cell_type": "markdown",
   "metadata": {
    "id": "z-eM9ad2WU0F"
   },
   "source": [
    "## Learn"
   ]
  },
  {
   "cell_type": "code",
   "execution_count": 6,
   "metadata": {
    "colab": {
     "base_uri": "https://localhost:8080/",
     "height": 91
    },
    "executionInfo": {
     "elapsed": 353,
     "status": "ok",
     "timestamp": 1659706576973,
     "user": {
      "displayName": "Linda Mauron",
      "userId": "17004827077562637667"
     },
     "user_tz": -120
    },
    "id": "PTxcrCAtXSOJ",
    "outputId": "2bb3e94b-baee-4a8a-b8da-8793d14e2884"
   },
   "outputs": [
    {
     "data": {
      "application/vnd.google.colaboratory.intrinsic+json": {
       "type": "string"
      },
      "text/plain": [
       "\"\\nsize = 51\\nx = np.linspace(-4, 4, size)\\nprobs_p = np.zeros( (size,size) )\\nfor k in range(size):\\n    for j in range(size):\\n        probs_p[k,j] = p.log_prob( np.array( [[x[k],x[j]]] ) )\\n\\n\\nplt.title('p to learn')\\n\\nplt.contourf(x, x, np.exp(probs_p), levels=10)\\nplt.contour(x, x, np.exp(probs_p), colors='black', levels=10, linewidths=.5, linestyles='solid')\\n\\nplt.xlabel('$x_1$')\\nplt.ylabel('$x_2$')\\n\\nprint( np.trapz(np.trapz(np.exp(probs_p), x=x), x=x) )\\n\""
      ]
     },
     "execution_count": 6,
     "metadata": {},
     "output_type": "execute_result"
    }
   ],
   "source": [
    "################################################################################\n",
    "# Distribution\n",
    "n_particles = 10\n",
    "d = 1\n",
    "pbc = True\n",
    "\n",
    "beta = 1\n",
    "h = 1\n",
    "jnn = -1\n",
    "jnnn = 0\n",
    "\n",
    "H = generate_H(n_particles, beta, h, d)\n",
    "K, J = generate_NNN(n_particles, beta, jnn, jnnn, d, pbc)\n",
    "p = IsingDistribution(n_particles,J,K,H,beta)\n",
    "\n",
    "'''\n",
    "size = 51\n",
    "x = np.linspace(-4, 4, size)\n",
    "probs_p = np.zeros( (size,size) )\n",
    "for k in range(size):\n",
    "    for j in range(size):\n",
    "        probs_p[k,j] = p.log_prob( np.array( [[x[k],x[j]]] ) )\n",
    "\n",
    "\n",
    "plt.title('p to learn')\n",
    "\n",
    "plt.contourf(x, x, np.exp(probs_p), levels=10)\n",
    "plt.contour(x, x, np.exp(probs_p), colors='black', levels=10, linewidths=.5, linestyles='solid')\n",
    "\n",
    "plt.xlabel('$x_1$')\n",
    "plt.ylabel('$x_2$')\n",
    "\n",
    "print( np.trapz(np.trapz(np.exp(probs_p), x=x), x=x) )\n",
    "'''"
   ]
  },
  {
   "cell_type": "code",
   "execution_count": null,
   "metadata": {
    "id": "w1oGjmpbFy7o"
   },
   "outputs": [],
   "source": [
    "L_temp = L\n",
    "L = np.zeros(60000)\n",
    "L[:nsteps] = L_temp"
   ]
  },
  {
   "cell_type": "code",
   "execution_count": 7,
   "metadata": {
    "colab": {
     "base_uri": "https://localhost:8080/",
     "height": 1000,
     "referenced_widgets": [
      "ef0de5c6d5c04282b2fd9b4ac911bc7a",
      "ebd0de875ac64a3181faefe3807392f2",
      "258200f0c1ac483fb8fbace3fab8ba5f",
      "a0d7bcbb88a34a83a98aa9deb0d5cd4a",
      "c306f37436994091b5459e6030efbc79",
      "2dc15c88896740f7b9fc0d60f04cbc9e",
      "a257fc258b6845e7a78a1d949bf0dfc9",
      "1806da5ac2c94d408be5e32a1efd5455",
      "d1e2e36eb07f46a0bd15c8816deb386c",
      "658836ebbd2e4860a2397d26a5d8eb99",
      "826a742e814b4237adbe9772fecab5ec"
     ]
    },
    "executionInfo": {
     "elapsed": 3116652,
     "status": "error",
     "timestamp": 1659709693619,
     "user": {
      "displayName": "Linda Mauron",
      "userId": "17004827077562637667"
     },
     "user_tz": -120
    },
    "id": "8uoaKJoVajAg",
    "outputId": "e47e9700-ad69-4793-bb48-3c6173dccc5d"
   },
   "outputs": [
    {
     "data": {
      "application/vnd.jupyter.widget-view+json": {
       "model_id": "ef0de5c6d5c04282b2fd9b4ac911bc7a",
       "version_major": 2,
       "version_minor": 0
      },
      "text/plain": [
       "  0%|          | 0/10000 [00:00<?, ?it/s]"
      ]
     },
     "metadata": {},
     "output_type": "display_data"
    },
    {
     "name": "stdout",
     "output_type": "stream",
     "text": [
      "0 Loss =  -27.01534726465269\n",
      "200 Loss =  -28.082682543090126\n",
      "400 Loss =  -28.213305663343473\n"
     ]
    },
    {
     "data": {
      "image/png": "[encoded data removed]",
      "text/plain": [
       "<Figure size 432x288 with 1 Axes>"
      ]
     },
     "metadata": {
      "needs_background": "light"
     },
     "output_type": "display_data"
    },
    {
     "name": "stdout",
     "output_type": "stream",
     "text": [
      "600 Loss =  -28.322909323513272\n",
      "800 Loss =  -28.416545580822685\n",
      "1000 Loss =  -28.54860714815032\n"
     ]
    },
    {
     "data": {
      "image/png": "[encoded data removed]",
      "text/plain": [
       "<Figure size 432x288 with 1 Axes>"
      ]
     },
     "metadata": {
      "needs_background": "light"
     },
     "output_type": "display_data"
    },
    {
     "name": "stdout",
     "output_type": "stream",
     "text": [
      "1200 Loss =  -28.70726131121103\n",
      "1400 Loss =  -28.83639879870657\n"
     ]
    },
    {
     "data": {
      "image/png": "[encoded data removed]",
      "text/plain": [
       "<Figure size 432x288 with 1 Axes>"
      ]
     },
     "metadata": {
      "needs_background": "light"
     },
     "output_type": "display_data"
    },
    {
     "name": "stdout",
     "output_type": "stream",
     "text": [
      "1600 Loss =  -28.9678307118525\n",
      "1800 Loss =  -29.089623196593312\n",
      "2000 Loss =  -29.22119597620525\n"
     ]
    },
    {
     "data": {
      "image/png": "[encoded data removed]",
      "text/plain": [
       "<Figure size 432x288 with 1 Axes>"
      ]
     },
     "metadata": {
      "needs_background": "light"
     },
     "output_type": "display_data"
    },
    {
     "name": "stdout",
     "output_type": "stream",
     "text": [
      "2200 Loss =  -29.35013105811982\n",
      "2400 Loss =  -29.433313375394963\n"
     ]
    },
    {
     "data": {
      "image/png": "[encoded data removed]",
      "text/plain": [
       "<Figure size 432x288 with 1 Axes>"
      ]
     },
     "metadata": {
      "needs_background": "light"
     },
     "output_type": "display_data"
    },
    {
     "name": "stdout",
     "output_type": "stream",
     "text": [
      "2600 Loss =  -29.499358313364805\n",
      "2800 Loss =  -29.572830367913593\n",
      "3000 Loss =  -29.6169055987763\n"
     ]
    },
    {
     "data": {
      "image/png": "[encoded data removed]",
      "text/plain": [
       "<Figure size 432x288 with 1 Axes>"
      ]
     },
     "metadata": {
      "needs_background": "light"
     },
     "output_type": "display_data"
    },
    {
     "name": "stdout",
     "output_type": "stream",
     "text": [
      "3200 Loss =  -29.653612939305162\n"
     ]
    },
    {
     "ename": "KeyboardInterrupt",
     "evalue": "ignored",
     "output_type": "error",
     "traceback": [
      "\u001b[0;31m---------------------------------------------------------------------------\u001b[0m",
      "\u001b[0;31mKeyboardInterrupt\u001b[0m                         Traceback (most recent call last)",
      "\u001b[0;32m<ipython-input-7-ca4b831c8ddd>\u001b[0m in \u001b[0;36m<module>\u001b[0;34m()\u001b[0m\n\u001b[1;32m     64\u001b[0m \u001b[0;34m\u001b[0m\u001b[0m\n\u001b[1;32m     65\u001b[0m \u001b[0;32mfor\u001b[0m \u001b[0mi\u001b[0m \u001b[0;32min\u001b[0m \u001b[0mtqdm\u001b[0m\u001b[0;34m(\u001b[0m\u001b[0mrange\u001b[0m\u001b[0;34m(\u001b[0m\u001b[0mnsteps\u001b[0m\u001b[0;34m)\u001b[0m\u001b[0;34m)\u001b[0m\u001b[0;34m:\u001b[0m\u001b[0;34m\u001b[0m\u001b[0;34m\u001b[0m\u001b[0m\n\u001b[0;32m---> 66\u001b[0;31m   \u001b[0mL\u001b[0m\u001b[0;34m[\u001b[0m\u001b[0mi\u001b[0m\u001b[0;34m]\u001b[0m\u001b[0;34m,\u001b[0m \u001b[0mg\u001b[0m \u001b[0;34m=\u001b[0m \u001b[0mmodel\u001b[0m\u001b[0;34m.\u001b[0m\u001b[0mloss_and_grad\u001b[0m\u001b[0;34m(\u001b[0m\u001b[0mkey\u001b[0m\u001b[0;34m,\u001b[0m \u001b[0mmodel\u001b[0m\u001b[0;34m.\u001b[0m\u001b[0mparams\u001b[0m\u001b[0;34m,\u001b[0m \u001b[0mNs\u001b[0m\u001b[0;34m)\u001b[0m\u001b[0;34m\u001b[0m\u001b[0;34m\u001b[0m\u001b[0m\n\u001b[0m\u001b[1;32m     67\u001b[0m   \u001b[0mkey\u001b[0m\u001b[0;34m,\u001b[0m \u001b[0m_\u001b[0m \u001b[0;34m=\u001b[0m \u001b[0mrnd\u001b[0m\u001b[0;34m.\u001b[0m\u001b[0msplit\u001b[0m\u001b[0;34m(\u001b[0m\u001b[0mkey\u001b[0m\u001b[0;34m,\u001b[0m \u001b[0;36m2\u001b[0m\u001b[0;34m)\u001b[0m\u001b[0;34m\u001b[0m\u001b[0;34m\u001b[0m\u001b[0m\n\u001b[1;32m     68\u001b[0m \u001b[0;34m\u001b[0m\u001b[0m\n",
      "\u001b[0;31mKeyboardInterrupt\u001b[0m: "
     ]
    }
   ],
   "source": [
    "################################################################################\n",
    "# Distribution\n",
    "'''\n",
    "mus=np.array([1, -1])\n",
    "sigmas = np.array([0.5, 0.5])\n",
    "coeffs = np.array([0.7, 0.3])\n",
    "p = UncorrelatedBiDimensionalDistribution(mus, sigmas, coeffs)\n",
    "n_particles = 1\n",
    "'''\n",
    "'''\n",
    "mus = np.array([[1,1], [1,-1], [-1,1], [-1,-1]])\n",
    "sigmas = np.array([0.3,1,0.5,0.5])\n",
    "coeffs = np.array([0.1, 0.4, 0.3, 0.2])\n",
    "p = UncorrelatedBiDimensionalDistribution(mus, sigmas, coeffs)\n",
    "n_particles = 2\n",
    "'''\n",
    "'''\n",
    "mus = [np.array([1,1])]\n",
    "sigmas = [np.array([[1,0.6],[0.6,0.5]])]\n",
    "#sigmas = [np.array([[1,0],[0,0.5]])]\n",
    "coeffs = [1]\n",
    "p = CorrelatedBiDimensionalDistribution(mus, sigmas, coeffs)\n",
    "n_particles = 2\n",
    "'''\n",
    "'''\n",
    "mus = [np.array([-1,-1]).T, \n",
    "       np.array([-1,1]).T, \n",
    "       np.array([1,1]).T, \n",
    "       np.array([1,-1]).T\n",
    "       ]\n",
    "sigmas = [np.array([[0.5,0.3],[0.3,0.25]]), \n",
    "          np.array([[0.5,0.3],[0.3,0.25]]), \n",
    "          np.array([[0.5,0.3],[0.3,0.25]]), \n",
    "          np.array([[0.5,0.3],[0.3,0.25]])\n",
    "          ]\n",
    "coeffs = [0.05, 0.4, 0.4, 0.15]\n",
    "p = CorrelatedBiDimensionalDistribution(mus, sigmas, coeffs)\n",
    "n_particles = 2\n",
    "'''\n",
    "\n",
    "\n",
    "\n",
    "# Model\n",
    "nbins = 3\n",
    "key = rnd.PRNGKey(12)\n",
    "\n",
    "\n",
    "model = Recurrent_Model(key, Module=Recurrent_Module, hidden_size=10, n_particles=n_particles, mlp_layers1=[5,3*nbins+1], mlp_layers2=[6,4,1], p=p)\n",
    "key, _ = rnd.split(key, 2)\n",
    "\n",
    "\n",
    "\n",
    "# Learning\n",
    "nsteps = 10000\n",
    "lr = 5e-3\n",
    "Ns = 20000\n",
    "tx = optax.sgd(learning_rate=lr)\n",
    "opt_state = tx.init(model.params)\n",
    "\n",
    "\n",
    "L = np.zeros(nsteps)\n",
    "means = []\n",
    "covs = []\n",
    "\n",
    "for i in tqdm(range(nsteps)):\n",
    "  L[i], g = model.loss_and_grad(key, model.params, Ns)\n",
    "  key, _ = rnd.split(key, 2)\n",
    "\n",
    "\n",
    "  if jnp.abs(L[i]) == np.infty or jnp.isnan(L[i]):\n",
    "    print(g)\n",
    "    break\n",
    "\n",
    "  updates, opt_state = tx.update(g, opt_state)\n",
    "  model.params = optax.apply_updates(model.params, updates)\n",
    "\n",
    "  # Keep track of evolution\n",
    "  if i % 200 == 0:\n",
    "    print(i, 'Loss = ', L[i])\n",
    "  \n",
    "  # See loss\n",
    "  if i>0 and i%500==0 :\n",
    "    plt.figure()\n",
    "    plt.plot(range(i-500, i), L[i-500:i])\n",
    "    plt.show()\n",
    "    \n",
    "  '''\n",
    "  # See distribution\n",
    "  if (i+1)%500 == 0:\n",
    "    \n",
    "    size = 21\n",
    "    x = np.linspace(-3, 3, size)\n",
    "    probs_q = np.zeros( (size,size) )\n",
    "    for k in range(size):\n",
    "      for j in range(size):\n",
    "        probs_q[k,j] = model.log_prob( model.params, np.array([[x[k], x[j]]]) )\n",
    "\n",
    "    plt.contourf(x, x, np.exp(probs_q), levels=20)\n",
    "    plt.contour(x, x, np.exp(probs_q), colors='black', levels=20, linewidths=.5, linestyles='solid')\n",
    "    plt.show() \n",
    "    \n",
    "    #_, data = model.sample_and_log_q(key, model.params, Ns=10000)\n",
    "    #means.append( np.mean(data, axis=0) )\n",
    "    #covs.append( np.cov(data.T) )\n",
    "    #print(i, 'Distribution : ', means[-1], covs[-1])\n",
    "    '''"
   ]
  },
  {
   "cell_type": "code",
   "execution_count": 8,
   "metadata": {
    "colab": {
     "base_uri": "https://localhost:8080/",
     "height": 295
    },
    "executionInfo": {
     "elapsed": 274,
     "status": "ok",
     "timestamp": 1659709701023,
     "user": {
      "displayName": "Linda Mauron",
      "userId": "17004827077562637667"
     },
     "user_tz": -120
    },
    "id": "w4odmxHlgbLg",
    "outputId": "71a19725-3423-4855-b757-5904b12b33f7"
   },
   "outputs": [
    {
     "data": {
      "image/png": "[encoded data removed]",
      "text/plain": [
       "<Figure size 1440x288 with 1 Axes>"
      ]
     },
     "metadata": {
      "needs_background": "light"
     },
     "output_type": "display_data"
    }
   ],
   "source": [
    "arr_means = np.array(means)\n",
    "arr_covs = np.array(covs)\n",
    "\n",
    "\n",
    "plt.figure(figsize=(20,4))\n",
    "\n",
    "################################################################################\n",
    "plt.subplot(1,4,1)\n",
    "plt.title('Evolution of the loss')\n",
    "plt.plot(L[L!=0], label='L')\n",
    "#plt.hlines(y=-5.3288, xmin=0, xmax=i, color='k', linestyle='dashed')\n",
    "plt.xlabel('Iteration')\n",
    "plt.ylabel('Loss')\n",
    "plt.legend()\n",
    "\n",
    "\n",
    "'''\n",
    "################################################################################\n",
    "probs, data = model.sample_and_log_q(key, model.params, Ns=10000)\n",
    "#q = model.q_theta(params=model.params)    \n",
    "#data = q._sample_n(key, 10000)\n",
    "#key, _ = rnd.split(key, 2)\n",
    "size = 21\n",
    "H, yedges, xedges = np.histogram2d(data[:,0], \n",
    "                                   data[:,1], \n",
    "                                   bins=[np.linspace(-2,2,size),np.linspace(-2,2,size)]\n",
    "                                   )\n",
    "X, Y = np.meshgrid(xedges, yedges)\n",
    "\n",
    "plt.subplot(1,4,2)\n",
    "plt.title('Sampling q_θ')\n",
    "\n",
    "plt.pcolormesh(X, Y, H)\n",
    "\n",
    "plt.xlabel('$x_1$')\n",
    "plt.ylabel('$x_2$')\n",
    "\n",
    "\n",
    "################################################################################\n",
    "\n",
    "size = 21\n",
    "x = np.linspace(-2.5, 2.5, size)\n",
    "probs_p = np.zeros( (size,size) )\n",
    "probs_q = np.zeros( (size,size) )\n",
    "for k in range(size):\n",
    "    for j in range(size):\n",
    "        probs_p[k,j] = model.p.log_prob( np.array( [[x[k],x[j]]] ) )\n",
    "        probs_q[k,j] = model.log_prob( model.params, np.array([[x[k],x[j]]]) )\n",
    "\n",
    "\n",
    "\n",
    "plt.subplot(1,4,3)\n",
    "plt.title('p to learn')\n",
    "\n",
    "plt.contourf(x, x, np.exp(probs_p), levels=10)\n",
    "plt.contour(x, x, np.exp(probs_p), colors='black', levels=10, linewidths=.5, linestyles='solid')\n",
    "\n",
    "plt.xlabel('$x_1$')\n",
    "plt.ylabel('$x_2$')\n",
    "\n",
    "\n",
    "################################################################################\n",
    "\n",
    "plt.subplot(1,4,4)\n",
    "plt.title('q_θ learned')\n",
    "\n",
    "plt.contourf(x, x, np.exp(probs_q), levels=10)\n",
    "plt.contour(x, x, np.exp(probs_q), colors='black', levels=10, linewidths=.5, linestyles='solid')\n",
    "\n",
    "plt.xlabel('$x_1$')\n",
    "plt.ylabel('$x_2$')\n",
    "\n",
    "\n",
    "plt.savefig(f'Ising_jnn={jnn}_h={h}.png', dpi=200, bbox_inches='tight')\n",
    "################################################################################\n",
    "################################################################################\n",
    "'''\n",
    "plt.show()\n"
   ]
  },
  {
   "cell_type": "code",
   "execution_count": 11,
   "metadata": {
    "colab": {
     "base_uri": "https://localhost:8080/",
     "height": 36
    },
    "executionInfo": {
     "elapsed": 14,
     "status": "ok",
     "timestamp": 1659709738376,
     "user": {
      "displayName": "Linda Mauron",
      "userId": "17004827077562637667"
     },
     "user_tz": -120
    },
    "id": "l1c-KZeFnM7u",
    "outputId": "36b4a5d8-9433-4d81-d1d0-487a170237f7"
   },
   "outputs": [
    {
     "data": {
      "application/vnd.google.colaboratory.intrinsic+json": {
       "type": "string"
      },
      "text/plain": [
       "\"\\nwith open(path, 'rb') as file:\\n    data = pickle.load(file)\\n\""
      ]
     },
     "execution_count": 11,
     "metadata": {},
     "output_type": "execute_result"
    }
   ],
   "source": [
    "# To import/export parameters \n",
    "import pickle\n",
    "\n",
    "path = f'Loss_N={n_particles}_jnn={jnn}_jnnn={jnnn}_h={h}.pickle'\n",
    "with open(path, 'wb') as file:\n",
    "    pickle.dump(L[L!=0], file)\n",
    "\n",
    "path = f'Parameters_N={n_particles}_jnn={jnn}_jnnn={jnnn}_h={h}.pickle'\n",
    "with open(path, 'wb') as file:\n",
    "    pickle.dump(model.params, file)\n",
    "\n",
    "path = f'HyperParams_N={n_particles}_jnn={jnn}_jnnn={jnnn}_h={h}.txt'\n",
    "sample = open(path, 'w')\n",
    "print(f'hidden_size : {10}', file=sample)\n",
    "print(f'mlp_layers1 : {[5,10]}', file=sample)\n",
    "print(f'mlp_layers2 : {[6,4,1]}', file=sample)\n",
    "print(f'p : h={h}, jnn={jnn}, jnnn={jnnn}, beta={beta}, pbc={pbc}', file=sample)\n",
    "sample.close()\n",
    "\n",
    "'''\n",
    "with open(path, 'rb') as file:\n",
    "    data = pickle.load(file)\n",
    "'''"
   ]
  },
  {
   "cell_type": "code",
   "execution_count": null,
   "metadata": {
    "colab": {
     "base_uri": "https://localhost:8080/"
    },
    "executionInfo": {
     "elapsed": 263,
     "status": "ok",
     "timestamp": 1659519698954,
     "user": {
      "displayName": "Linda Mauron",
      "userId": "17004827077562637667"
     },
     "user_tz": -120
    },
    "id": "SAiQQ0QLYOCf",
    "outputId": "057c50f2-5d95-48a8-d7f8-cfd71895ce6d"
   },
   "outputs": [
    {
     "name": "stdout",
     "output_type": "stream",
     "text": [
      "x is  (2,)\n",
      "lp  () ()\n",
      "(689,)\n"
     ]
    },
    {
     "data": {
      "text/plain": [
       "(34450,)"
      ]
     },
     "execution_count": 244,
     "metadata": {},
     "output_type": "execute_result"
    }
   ],
   "source": [
    "'''\n",
    "Attempt at doing the gradient by hand, does not work yet\n",
    "'''\n",
    "\n",
    "#!pip install tree-math\n",
    "#import tree_math as tm\n",
    "logq, data= model.sample_and_log_q(key, model.params, 50)\n",
    "#dlogq = jax.vmap(grad(model.log_prob), in_axes=(None,0), out_axes=0)(model.params,data)\n",
    "logp = model.p.log_prob(data)\n",
    "\n",
    "\n",
    "x = data[0]\n",
    "dlogq = grad(model.log_prob, argnums=0)(model.params,x)\n",
    "\n",
    "\n",
    "#print(dlogq)\n",
    "#v = tm.Vector(dlogq)\n",
    "#print(v.shape)\n",
    "#print(logp.shape, logq.shape, v.shape)\n",
    "#v = v*(logq[0]-logp[0])\n",
    "#print(v.shape)\n",
    "\n",
    "def local_grad(x):\n",
    "  print('x is ', x.shape)\n",
    "  logq, dlogq = jax.value_and_grad(model.log_prob, argnums=0)(model.params,x)\n",
    "  logp = model.p.log_prob(jnp.array([x]))[0]\n",
    "  print('lp ', logp.shape, logq.shape)\n",
    "\n",
    "  v = tm.Vector(dlogq)\n",
    "  v = v*(logq - logp)\n",
    "  print(v.shape)\n",
    "  return v\n",
    "\n",
    "g = vmap(local_grad, in_axes=0, out_axes=0)(data)\n",
    "g.shape\n",
    "\n"
   ]
  },
  {
   "cell_type": "code",
   "execution_count": null,
   "metadata": {
    "id": "6d2DSgSZ5d2_"
   },
   "outputs": [],
   "source": []
  }
 ],
 "metadata": {
  "colab": {
   "authorship_tag": "ABX9TyPvfDA9RZOzwBSCvb3gwx/U",
   "collapsed_sections": [
    "enOG0ulnES23",
    "bzAKbdDSEYV1",
    "8jo-wDC_U1Wq",
    "tp4ejgnZEqlk",
    "RThwQYEgk5k_",
    "m8ZgyI59k8Sb",
    "Z7vqs2HPVxuX",
    "rC3w9C_QVxuZ",
    "uU0piTaxVxuc",
    "y1HYP9gzVxuf",
    "sHz8d0J7oy1J",
    "t-eFOqE13QoP",
    "OJgRaeSx3TvK",
    "l6OfhyaP-eJS",
    "7khKDxbDiAqu",
    "fFGrjvuVsKtp",
    "KMCgrequ9ccj",
    "I1waA9lYXEf3",
    "j1IJLHRxsOXM",
    "0BOSSnvBWSFQ"
   ],
   "name": "Autoregressive flows.ipynb",
   "provenance": []
  },
  "gpuClass": "standard",
  "kernelspec": {
   "display_name": "Python 3 (ipykernel)",
   "language": "python",
   "name": "python3"
  },
  "language_info": {
   "codemirror_mode": {
    "name": "ipython",
    "version": 3
   },
   "file_extension": ".py",
   "mimetype": "text/x-python",
   "name": "python",
   "nbconvert_exporter": "python",
   "pygments_lexer": "ipython3",
   "version": "3.10.4"
  },
  "widgets": {
   "application/vnd.jupyter.widget-state+json": {
    "03640ffa00e74f9e87215825e8966f0d": {
     "model_module": "@jupyter-widgets/base",
     "model_module_version": "1.2.0",
     "model_name": "LayoutModel",
     "state": {
      "_model_module": "@jupyter-widgets/base",
      "_model_module_version": "1.2.0",
      "_model_name": "LayoutModel",
      "_view_count": null,
      "_view_module": "@jupyter-widgets/base",
      "_view_module_version": "1.2.0",
      "_view_name": "LayoutView",
      "align_content": null,
      "align_items": null,
      "align_self": null,
      "border": null,
      "bottom": null,
      "display": null,
      "flex": null,
      "flex_flow": null,
      "grid_area": null,
      "grid_auto_columns": null,
      "grid_auto_flow": null,
      "grid_auto_rows": null,
      "grid_column": null,
      "grid_gap": null,
      "grid_row": null,
      "grid_template_areas": null,
      "grid_template_columns": null,
      "grid_template_rows": null,
      "height": null,
      "justify_content": null,
      "justify_items": null,
      "left": null,
      "margin": null,
      "max_height": null,
      "max_width": null,
      "min_height": null,
      "min_width": null,
      "object_fit": null,
      "object_position": null,
      "order": null,
      "overflow": null,
      "overflow_x": null,
      "overflow_y": null,
      "padding": null,
      "right": null,
      "top": null,
      "visibility": null,
      "width": null
     }
    },
    "1806da5ac2c94d408be5e32a1efd5455": {
     "model_module": "@jupyter-widgets/base",
     "model_module_version": "1.2.0",
     "model_name": "LayoutModel",
     "state": {
      "_model_module": "@jupyter-widgets/base",
      "_model_module_version": "1.2.0",
      "_model_name": "LayoutModel",
      "_view_count": null,
      "_view_module": "@jupyter-widgets/base",
      "_view_module_version": "1.2.0",
      "_view_name": "LayoutView",
      "align_content": null,
      "align_items": null,
      "align_self": null,
      "border": null,
      "bottom": null,
      "display": null,
      "flex": null,
      "flex_flow": null,
      "grid_area": null,
      "grid_auto_columns": null,
      "grid_auto_flow": null,
      "grid_auto_rows": null,
      "grid_column": null,
      "grid_gap": null,
      "grid_row": null,
      "grid_template_areas": null,
      "grid_template_columns": null,
      "grid_template_rows": null,
      "height": null,
      "justify_content": null,
      "justify_items": null,
      "left": null,
      "margin": null,
      "max_height": null,
      "max_width": null,
      "min_height": null,
      "min_width": null,
      "object_fit": null,
      "object_position": null,
      "order": null,
      "overflow": null,
      "overflow_x": null,
      "overflow_y": null,
      "padding": null,
      "right": null,
      "top": null,
      "visibility": null,
      "width": null
     }
    },
    "1d24bff9514e4a65be9765638c415747": {
     "model_module": "@jupyter-widgets/controls",
     "model_module_version": "1.5.0",
     "model_name": "ProgressStyleModel",
     "state": {
      "_model_module": "@jupyter-widgets/controls",
      "_model_module_version": "1.5.0",
      "_model_name": "ProgressStyleModel",
      "_view_count": null,
      "_view_module": "@jupyter-widgets/base",
      "_view_module_version": "1.2.0",
      "_view_name": "StyleView",
      "bar_color": null,
      "description_width": ""
     }
    },
    "1f2e5ba3ca5f4ee89918778e51c4ab96": {
     "model_module": "@jupyter-widgets/controls",
     "model_module_version": "1.5.0",
     "model_name": "HTMLModel",
     "state": {
      "_dom_classes": [],
      "_model_module": "@jupyter-widgets/controls",
      "_model_module_version": "1.5.0",
      "_model_name": "HTMLModel",
      "_view_count": null,
      "_view_module": "@jupyter-widgets/controls",
      "_view_module_version": "1.5.0",
      "_view_name": "HTMLView",
      "description": "",
      "description_tooltip": null,
      "layout": "IPY_MODEL_c244f39a9f9f482d8bbd05b4d2aa310c",
      "placeholder": "​",
      "style": "IPY_MODEL_a2347a980c27400e82672083ba62634d",
      "value": " 5000/5000 [08:50&lt;00:00, 10.11it/s]"
     }
    },
    "258200f0c1ac483fb8fbace3fab8ba5f": {
     "model_module": "@jupyter-widgets/controls",
     "model_module_version": "1.5.0",
     "model_name": "FloatProgressModel",
     "state": {
      "_dom_classes": [],
      "_model_module": "@jupyter-widgets/controls",
      "_model_module_version": "1.5.0",
      "_model_name": "FloatProgressModel",
      "_view_count": null,
      "_view_module": "@jupyter-widgets/controls",
      "_view_module_version": "1.5.0",
      "_view_name": "ProgressView",
      "bar_style": "danger",
      "description": "",
      "description_tooltip": null,
      "layout": "IPY_MODEL_1806da5ac2c94d408be5e32a1efd5455",
      "max": 10000,
      "min": 0,
      "orientation": "horizontal",
      "style": "IPY_MODEL_d1e2e36eb07f46a0bd15c8816deb386c",
      "value": 3203
     }
    },
    "2dc15c88896740f7b9fc0d60f04cbc9e": {
     "model_module": "@jupyter-widgets/base",
     "model_module_version": "1.2.0",
     "model_name": "LayoutModel",
     "state": {
      "_model_module": "@jupyter-widgets/base",
      "_model_module_version": "1.2.0",
      "_model_name": "LayoutModel",
      "_view_count": null,
      "_view_module": "@jupyter-widgets/base",
      "_view_module_version": "1.2.0",
      "_view_name": "LayoutView",
      "align_content": null,
      "align_items": null,
      "align_self": null,
      "border": null,
      "bottom": null,
      "display": null,
      "flex": null,
      "flex_flow": null,
      "grid_area": null,
      "grid_auto_columns": null,
      "grid_auto_flow": null,
      "grid_auto_rows": null,
      "grid_column": null,
      "grid_gap": null,
      "grid_row": null,
      "grid_template_areas": null,
      "grid_template_columns": null,
      "grid_template_rows": null,
      "height": null,
      "justify_content": null,
      "justify_items": null,
      "left": null,
      "margin": null,
      "max_height": null,
      "max_width": null,
      "min_height": null,
      "min_width": null,
      "object_fit": null,
      "object_position": null,
      "order": null,
      "overflow": null,
      "overflow_x": null,
      "overflow_y": null,
      "padding": null,
      "right": null,
      "top": null,
      "visibility": null,
      "width": null
     }
    },
    "2e7d96b23dfa4b1a9489114caf8c4edb": {
     "model_module": "@jupyter-widgets/controls",
     "model_module_version": "1.5.0",
     "model_name": "DescriptionStyleModel",
     "state": {
      "_model_module": "@jupyter-widgets/controls",
      "_model_module_version": "1.5.0",
      "_model_name": "DescriptionStyleModel",
      "_view_count": null,
      "_view_module": "@jupyter-widgets/base",
      "_view_module_version": "1.2.0",
      "_view_name": "StyleView",
      "description_width": ""
     }
    },
    "3aa9f5d332ba41d5a8680a9bb7fd1a77": {
     "model_module": "@jupyter-widgets/controls",
     "model_module_version": "1.5.0",
     "model_name": "FloatProgressModel",
     "state": {
      "_dom_classes": [],
      "_model_module": "@jupyter-widgets/controls",
      "_model_module_version": "1.5.0",
      "_model_name": "FloatProgressModel",
      "_view_count": null,
      "_view_module": "@jupyter-widgets/controls",
      "_view_module_version": "1.5.0",
      "_view_name": "ProgressView",
      "bar_style": "success",
      "description": "",
      "description_tooltip": null,
      "layout": "IPY_MODEL_03640ffa00e74f9e87215825e8966f0d",
      "max": 5000,
      "min": 0,
      "orientation": "horizontal",
      "style": "IPY_MODEL_1d24bff9514e4a65be9765638c415747",
      "value": 5000
     }
    },
    "43ecf50e52bf4bacb4f97807665da33a": {
     "model_module": "@jupyter-widgets/base",
     "model_module_version": "1.2.0",
     "model_name": "LayoutModel",
     "state": {
      "_model_module": "@jupyter-widgets/base",
      "_model_module_version": "1.2.0",
      "_model_name": "LayoutModel",
      "_view_count": null,
      "_view_module": "@jupyter-widgets/base",
      "_view_module_version": "1.2.0",
      "_view_name": "LayoutView",
      "align_content": null,
      "align_items": null,
      "align_self": null,
      "border": null,
      "bottom": null,
      "display": null,
      "flex": null,
      "flex_flow": null,
      "grid_area": null,
      "grid_auto_columns": null,
      "grid_auto_flow": null,
      "grid_auto_rows": null,
      "grid_column": null,
      "grid_gap": null,
      "grid_row": null,
      "grid_template_areas": null,
      "grid_template_columns": null,
      "grid_template_rows": null,
      "height": null,
      "justify_content": null,
      "justify_items": null,
      "left": null,
      "margin": null,
      "max_height": null,
      "max_width": null,
      "min_height": null,
      "min_width": null,
      "object_fit": null,
      "object_position": null,
      "order": null,
      "overflow": null,
      "overflow_x": null,
      "overflow_y": null,
      "padding": null,
      "right": null,
      "top": null,
      "visibility": null,
      "width": null
     }
    },
    "658836ebbd2e4860a2397d26a5d8eb99": {
     "model_module": "@jupyter-widgets/base",
     "model_module_version": "1.2.0",
     "model_name": "LayoutModel",
     "state": {
      "_model_module": "@jupyter-widgets/base",
      "_model_module_version": "1.2.0",
      "_model_name": "LayoutModel",
      "_view_count": null,
      "_view_module": "@jupyter-widgets/base",
      "_view_module_version": "1.2.0",
      "_view_name": "LayoutView",
      "align_content": null,
      "align_items": null,
      "align_self": null,
      "border": null,
      "bottom": null,
      "display": null,
      "flex": null,
      "flex_flow": null,
      "grid_area": null,
      "grid_auto_columns": null,
      "grid_auto_flow": null,
      "grid_auto_rows": null,
      "grid_column": null,
      "grid_gap": null,
      "grid_row": null,
      "grid_template_areas": null,
      "grid_template_columns": null,
      "grid_template_rows": null,
      "height": null,
      "justify_content": null,
      "justify_items": null,
      "left": null,
      "margin": null,
      "max_height": null,
      "max_width": null,
      "min_height": null,
      "min_width": null,
      "object_fit": null,
      "object_position": null,
      "order": null,
      "overflow": null,
      "overflow_x": null,
      "overflow_y": null,
      "padding": null,
      "right": null,
      "top": null,
      "visibility": null,
      "width": null
     }
    },
    "826a742e814b4237adbe9772fecab5ec": {
     "model_module": "@jupyter-widgets/controls",
     "model_module_version": "1.5.0",
     "model_name": "DescriptionStyleModel",
     "state": {
      "_model_module": "@jupyter-widgets/controls",
      "_model_module_version": "1.5.0",
      "_model_name": "DescriptionStyleModel",
      "_view_count": null,
      "_view_module": "@jupyter-widgets/base",
      "_view_module_version": "1.2.0",
      "_view_name": "StyleView",
      "description_width": ""
     }
    },
    "a0d7bcbb88a34a83a98aa9deb0d5cd4a": {
     "model_module": "@jupyter-widgets/controls",
     "model_module_version": "1.5.0",
     "model_name": "HTMLModel",
     "state": {
      "_dom_classes": [],
      "_model_module": "@jupyter-widgets/controls",
      "_model_module_version": "1.5.0",
      "_model_name": "HTMLModel",
      "_view_count": null,
      "_view_module": "@jupyter-widgets/controls",
      "_view_module_version": "1.5.0",
      "_view_name": "HTMLView",
      "description": "",
      "description_tooltip": null,
      "layout": "IPY_MODEL_658836ebbd2e4860a2397d26a5d8eb99",
      "placeholder": "​",
      "style": "IPY_MODEL_826a742e814b4237adbe9772fecab5ec",
      "value": " 3203/10000 [51:53&lt;1:44:21,  1.09it/s]"
     }
    },
    "a2347a980c27400e82672083ba62634d": {
     "model_module": "@jupyter-widgets/controls",
     "model_module_version": "1.5.0",
     "model_name": "DescriptionStyleModel",
     "state": {
      "_model_module": "@jupyter-widgets/controls",
      "_model_module_version": "1.5.0",
      "_model_name": "DescriptionStyleModel",
      "_view_count": null,
      "_view_module": "@jupyter-widgets/base",
      "_view_module_version": "1.2.0",
      "_view_name": "StyleView",
      "description_width": ""
     }
    },
    "a257fc258b6845e7a78a1d949bf0dfc9": {
     "model_module": "@jupyter-widgets/controls",
     "model_module_version": "1.5.0",
     "model_name": "DescriptionStyleModel",
     "state": {
      "_model_module": "@jupyter-widgets/controls",
      "_model_module_version": "1.5.0",
      "_model_name": "DescriptionStyleModel",
      "_view_count": null,
      "_view_module": "@jupyter-widgets/base",
      "_view_module_version": "1.2.0",
      "_view_name": "StyleView",
      "description_width": ""
     }
    },
    "ae24aff1e78643fabd9a5ce34a92b1d5": {
     "model_module": "@jupyter-widgets/controls",
     "model_module_version": "1.5.0",
     "model_name": "HTMLModel",
     "state": {
      "_dom_classes": [],
      "_model_module": "@jupyter-widgets/controls",
      "_model_module_version": "1.5.0",
      "_model_name": "HTMLModel",
      "_view_count": null,
      "_view_module": "@jupyter-widgets/controls",
      "_view_module_version": "1.5.0",
      "_view_name": "HTMLView",
      "description": "",
      "description_tooltip": null,
      "layout": "IPY_MODEL_e5b6329c4e3148a2a8d068db985bedae",
      "placeholder": "​",
      "style": "IPY_MODEL_2e7d96b23dfa4b1a9489114caf8c4edb",
      "value": "100%"
     }
    },
    "b9286f37b2aa4dbbba0552805ccae52d": {
     "model_module": "@jupyter-widgets/controls",
     "model_module_version": "1.5.0",
     "model_name": "HBoxModel",
     "state": {
      "_dom_classes": [],
      "_model_module": "@jupyter-widgets/controls",
      "_model_module_version": "1.5.0",
      "_model_name": "HBoxModel",
      "_view_count": null,
      "_view_module": "@jupyter-widgets/controls",
      "_view_module_version": "1.5.0",
      "_view_name": "HBoxView",
      "box_style": "",
      "children": [
       "IPY_MODEL_ae24aff1e78643fabd9a5ce34a92b1d5",
       "IPY_MODEL_3aa9f5d332ba41d5a8680a9bb7fd1a77",
       "IPY_MODEL_1f2e5ba3ca5f4ee89918778e51c4ab96"
      ],
      "layout": "IPY_MODEL_43ecf50e52bf4bacb4f97807665da33a"
     }
    },
    "c244f39a9f9f482d8bbd05b4d2aa310c": {
     "model_module": "@jupyter-widgets/base",
     "model_module_version": "1.2.0",
     "model_name": "LayoutModel",
     "state": {
      "_model_module": "@jupyter-widgets/base",
      "_model_module_version": "1.2.0",
      "_model_name": "LayoutModel",
      "_view_count": null,
      "_view_module": "@jupyter-widgets/base",
      "_view_module_version": "1.2.0",
      "_view_name": "LayoutView",
      "align_content": null,
      "align_items": null,
      "align_self": null,
      "border": null,
      "bottom": null,
      "display": null,
      "flex": null,
      "flex_flow": null,
      "grid_area": null,
      "grid_auto_columns": null,
      "grid_auto_flow": null,
      "grid_auto_rows": null,
      "grid_column": null,
      "grid_gap": null,
      "grid_row": null,
      "grid_template_areas": null,
      "grid_template_columns": null,
      "grid_template_rows": null,
      "height": null,
      "justify_content": null,
      "justify_items": null,
      "left": null,
      "margin": null,
      "max_height": null,
      "max_width": null,
      "min_height": null,
      "min_width": null,
      "object_fit": null,
      "object_position": null,
      "order": null,
      "overflow": null,
      "overflow_x": null,
      "overflow_y": null,
      "padding": null,
      "right": null,
      "top": null,
      "visibility": null,
      "width": null
     }
    },
    "c306f37436994091b5459e6030efbc79": {
     "model_module": "@jupyter-widgets/base",
     "model_module_version": "1.2.0",
     "model_name": "LayoutModel",
     "state": {
      "_model_module": "@jupyter-widgets/base",
      "_model_module_version": "1.2.0",
      "_model_name": "LayoutModel",
      "_view_count": null,
      "_view_module": "@jupyter-widgets/base",
      "_view_module_version": "1.2.0",
      "_view_name": "LayoutView",
      "align_content": null,
      "align_items": null,
      "align_self": null,
      "border": null,
      "bottom": null,
      "display": null,
      "flex": null,
      "flex_flow": null,
      "grid_area": null,
      "grid_auto_columns": null,
      "grid_auto_flow": null,
      "grid_auto_rows": null,
      "grid_column": null,
      "grid_gap": null,
      "grid_row": null,
      "grid_template_areas": null,
      "grid_template_columns": null,
      "grid_template_rows": null,
      "height": null,
      "justify_content": null,
      "justify_items": null,
      "left": null,
      "margin": null,
      "max_height": null,
      "max_width": null,
      "min_height": null,
      "min_width": null,
      "object_fit": null,
      "object_position": null,
      "order": null,
      "overflow": null,
      "overflow_x": null,
      "overflow_y": null,
      "padding": null,
      "right": null,
      "top": null,
      "visibility": null,
      "width": null
     }
    },
    "d1e2e36eb07f46a0bd15c8816deb386c": {
     "model_module": "@jupyter-widgets/controls",
     "model_module_version": "1.5.0",
     "model_name": "ProgressStyleModel",
     "state": {
      "_model_module": "@jupyter-widgets/controls",
      "_model_module_version": "1.5.0",
      "_model_name": "ProgressStyleModel",
      "_view_count": null,
      "_view_module": "@jupyter-widgets/base",
      "_view_module_version": "1.2.0",
      "_view_name": "StyleView",
      "bar_color": null,
      "description_width": ""
     }
    },
    "e5b6329c4e3148a2a8d068db985bedae": {
     "model_module": "@jupyter-widgets/base",
     "model_module_version": "1.2.0",
     "model_name": "LayoutModel",
     "state": {
      "_model_module": "@jupyter-widgets/base",
      "_model_module_version": "1.2.0",
      "_model_name": "LayoutModel",
      "_view_count": null,
      "_view_module": "@jupyter-widgets/base",
      "_view_module_version": "1.2.0",
      "_view_name": "LayoutView",
      "align_content": null,
      "align_items": null,
      "align_self": null,
      "border": null,
      "bottom": null,
      "display": null,
      "flex": null,
      "flex_flow": null,
      "grid_area": null,
      "grid_auto_columns": null,
      "grid_auto_flow": null,
      "grid_auto_rows": null,
      "grid_column": null,
      "grid_gap": null,
      "grid_row": null,
      "grid_template_areas": null,
      "grid_template_columns": null,
      "grid_template_rows": null,
      "height": null,
      "justify_content": null,
      "justify_items": null,
      "left": null,
      "margin": null,
      "max_height": null,
      "max_width": null,
      "min_height": null,
      "min_width": null,
      "object_fit": null,
      "object_position": null,
      "order": null,
      "overflow": null,
      "overflow_x": null,
      "overflow_y": null,
      "padding": null,
      "right": null,
      "top": null,
      "visibility": null,
      "width": null
     }
    },
    "ebd0de875ac64a3181faefe3807392f2": {
     "model_module": "@jupyter-widgets/controls",
     "model_module_version": "1.5.0",
     "model_name": "HTMLModel",
     "state": {
      "_dom_classes": [],
      "_model_module": "@jupyter-widgets/controls",
      "_model_module_version": "1.5.0",
      "_model_name": "HTMLModel",
      "_view_count": null,
      "_view_module": "@jupyter-widgets/controls",
      "_view_module_version": "1.5.0",
      "_view_name": "HTMLView",
      "description": "",
      "description_tooltip": null,
      "layout": "IPY_MODEL_2dc15c88896740f7b9fc0d60f04cbc9e",
      "placeholder": "​",
      "style": "IPY_MODEL_a257fc258b6845e7a78a1d949bf0dfc9",
      "value": " 32%"
     }
    },
    "ef0de5c6d5c04282b2fd9b4ac911bc7a": {
     "model_module": "@jupyter-widgets/controls",
     "model_module_version": "1.5.0",
     "model_name": "HBoxModel",
     "state": {
      "_dom_classes": [],
      "_model_module": "@jupyter-widgets/controls",
      "_model_module_version": "1.5.0",
      "_model_name": "HBoxModel",
      "_view_count": null,
      "_view_module": "@jupyter-widgets/controls",
      "_view_module_version": "1.5.0",
      "_view_name": "HBoxView",
      "box_style": "",
      "children": [
       "IPY_MODEL_ebd0de875ac64a3181faefe3807392f2",
       "IPY_MODEL_258200f0c1ac483fb8fbace3fab8ba5f",
       "IPY_MODEL_a0d7bcbb88a34a83a98aa9deb0d5cd4a"
      ],
      "layout": "IPY_MODEL_c306f37436994091b5459e6030efbc79"
     }
    }
   }
  }
 },
 "nbformat": 4,
 "nbformat_minor": 1
}
